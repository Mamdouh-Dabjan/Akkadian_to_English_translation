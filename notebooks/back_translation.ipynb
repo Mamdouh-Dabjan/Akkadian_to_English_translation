{
 "cells": [
  {
   "metadata": {
    "ExecuteTime": {
     "end_time": "2025-09-09T06:06:05.958226Z",
     "start_time": "2025-09-09T06:06:05.495446Z"
    }
   },
   "cell_type": "code",
   "source": [
    "import torch\n",
    "from torch.utils.data import DataLoader\n",
    "from transformers import AutoTokenizer, AutoModelForSeq2SeqLM, get_scheduler\n",
    "from torch.optim import AdamW\n",
    "import pandas as pdf\n",
    "from datasets import Dataset\n",
    "import pandas as pd\n",
    "import matplotlib.pyplot as plt\n",
    "from nltk.translate.bleu_score import corpus_bleu, SmoothingFunction\n",
    "import nltk\n",
    "from tqdm.auto import tqdm\n",
    "import torch.nn.functional as F\n",
    "\n",
    "nltk.download('punkt')\n",
    "nltk.download('punkt_tab')"
   ],
   "id": "c60e2eedb63b206d",
   "outputs": [
    {
     "name": "stderr",
     "output_type": "stream",
     "text": [
      "[nltk_data] Downloading package punkt to /home/mamdouh/nltk_data...\n",
      "[nltk_data]   Package punkt is already up-to-date!\n",
      "[nltk_data] Downloading package punkt_tab to\n",
      "[nltk_data]     /home/mamdouh/nltk_data...\n",
      "[nltk_data]   Package punkt_tab is already up-to-date!\n"
     ]
    },
    {
     "data": {
      "text/plain": [
       "True"
      ]
     },
     "execution_count": 19,
     "metadata": {},
     "output_type": "execute_result"
    }
   ],
   "execution_count": 19
  },
  {
   "metadata": {},
   "cell_type": "markdown",
   "source": "# Sampling English Sentences",
   "id": "e4ea45cbca839490"
  },
  {
   "metadata": {
    "execution": {
     "iopub.execute_input": "2025-05-13T12:05:27.275682Z",
     "iopub.status.busy": "2025-05-13T12:05:27.275376Z",
     "iopub.status.idle": "2025-05-13T12:05:27.342108Z",
     "shell.execute_reply": "2025-05-13T12:05:27.341382Z",
     "shell.execute_reply.started": "2025-05-13T12:05:27.275665Z"
    },
    "ExecuteTime": {
     "end_time": "2025-09-09T06:06:10.321365Z",
     "start_time": "2025-09-09T06:06:10.252779Z"
    }
   },
   "cell_type": "code",
   "source": [
    "path = \"data_directories/final_data/english_train.txt\"\n",
    "with open(path, 'r', encoding='utf-8') as file:\n",
    "    en_texts = file.read().strip()\n",
    "    en_sentences = en_texts.split('\\n')\n"
   ],
   "id": "39b4fdfcce9f2061",
   "outputs": [],
   "execution_count": 20
  },
  {
   "metadata": {
    "execution": {
     "iopub.execute_input": "2025-05-13T12:05:30.192858Z",
     "iopub.status.busy": "2025-05-13T12:05:30.192069Z",
     "iopub.status.idle": "2025-05-13T12:05:31.500196Z",
     "shell.execute_reply": "2025-05-13T12:05:31.499466Z",
     "shell.execute_reply.started": "2025-05-13T12:05:30.192823Z"
    },
    "jupyter": {
     "source_hidden": true
    },
    "ExecuteTime": {
     "end_time": "2025-09-09T06:06:12.980900Z",
     "start_time": "2025-09-09T06:06:11.743118Z"
    }
   },
   "cell_type": "code",
   "source": [
    "import nltk\n",
    "word_list = nltk.word_tokenize(en_texts)\n",
    "\n",
    "unique_sorted_words = sorted(set(word_list))\n",
    "\n",
    "# Save to vocab.txt\n",
    "with open(\"vocab.txt\", \"w\") as vocab_file:\n",
    "    for word in unique_sorted_words:\n",
    "        vocab_file.write(f\"{word}\\n\")\n",
    "\n",
    "print(\"✅ vocab.txt has been created!\")\n"
   ],
   "id": "6ec35739befc34ac",
   "outputs": [
    {
     "name": "stdout",
     "output_type": "stream",
     "text": [
      "✅ vocab.txt has been created!\n"
     ]
    }
   ],
   "execution_count": 21
  },
  {
   "metadata": {},
   "cell_type": "markdown",
   "source": "## Fine tuning gpt for generation",
   "id": "af728b271609ffdf"
  },
  {
   "metadata": {
    "collapsed": true,
    "execution": {
     "iopub.execute_input": "2025-05-12T15:41:37.088297Z",
     "iopub.status.busy": "2025-05-12T15:41:37.087576Z",
     "iopub.status.idle": "2025-05-12T15:46:56.918832Z",
     "shell.execute_reply": "2025-05-12T15:46:56.917528Z",
     "shell.execute_reply.started": "2025-05-12T15:41:37.088271Z"
    },
    "jupyter": {
     "outputs_hidden": true
    },
    "ExecuteTime": {
     "end_time": "2025-09-09T06:11:04.225747Z",
     "start_time": "2025-09-09T06:06:34.076955Z"
    }
   },
   "cell_type": "code",
   "source": [
    "from transformers import GPT2LMHeadModel, GPT2Tokenizer, TextDataset, DataCollatorForLanguageModeling, Trainer, TrainingArguments\n",
    "import torch\n",
    "import random\n",
    "from transformers import logging\n",
    "logging.set_verbosity_error()  # Only show critical errors\n",
    "\n",
    "# === CONFIG ===\n",
    "train_file = \"data_directories/final_data/english_train.txt\"      # Your 18k English lines\n",
    "vocab_file = \"vocab.txt\"              # Optional: Wordlist\n",
    "output_dir = \"./gpt2-finetuned\"       # Save directory\n",
    "model_name = \"gpt2\"                   # or \"distilgpt2\" for smaller model\n",
    "\n",
    "# === LOAD TOKENIZER AND MODEL ===\n",
    "tokenizer = GPT2Tokenizer.from_pretrained(model_name)\n",
    "tokenizer.pad_token = tokenizer.eos_token  # Avoid padding issue\n",
    "model = GPT2LMHeadModel.from_pretrained(model_name)\n",
    "\n",
    "device = torch.device(\"cuda\" if torch.cuda.is_available() else \"cpu\")\n",
    "model = model.to(device)\n",
    "\n",
    "# === LOAD AND PREPARE DATASET ===\n",
    "def load_dataset(file_path):\n",
    "    return TextDataset(\n",
    "        tokenizer=tokenizer,\n",
    "        file_path=file_path,\n",
    "        block_size=128\n",
    "    )\n",
    "\n",
    "train_dataset = load_dataset(train_file)\n",
    "data_collator = DataCollatorForLanguageModeling(tokenizer=tokenizer, mlm=False)\n",
    "\n",
    "# === TRAINING ===\n",
    "training_args = TrainingArguments(\n",
    "    output_dir=\"./results\",\n",
    "    per_device_train_batch_size=8,\n",
    "    num_train_epochs=3,\n",
    "    logging_steps=100,\n",
    "    report_to=\"none\",\n",
    "    save_strategy=\"no\",\n",
    "\n",
    "    # Still save the final model manually at the end\n",
    "    save_total_limit=1,\n",
    ")\n",
    "trainer = Trainer(\n",
    "    model=model,\n",
    "    args=training_args,\n",
    "    train_dataset=train_dataset,\n",
    "    data_collator=data_collator\n",
    ")\n",
    "\n",
    "print(\"Starting fine-tuning...\")\n",
    "trainer.train()\n",
    "trainer.save_model(output_dir)\n",
    "tokenizer.save_pretrained(output_dir)\n",
    "print(\"✅ Finetuning complete!\")\n",
    "\n",
    "# === GENERATE NEW SENTENCES ===\n",
    "def load_vocab():\n",
    "    with open(vocab_file) as f:\n",
    "        words = [w.strip() for w in f if w.strip()]\n",
    "    return set(words)\n",
    "\n",
    "\n",
    "def generate_sentences(n=10, max_len=50):\n",
    "    model.eval()\n",
    "    generated = []\n",
    "\n",
    "\n",
    "    for _ in range(n):\n",
    "        prompt = tokenizer.eos_token  # or use something like: \"The\"\n",
    "        input_ids = tokenizer.encode(prompt, return_tensors=\"pt\").to(model.device)\n",
    "\n",
    "        with torch.no_grad():\n",
    "            output = model.generate(\n",
    "                input_ids,\n",
    "                do_sample=True,\n",
    "                max_length=max_len,\n",
    "                top_k=50,\n",
    "                top_p=0.95,\n",
    "                temperature=0.7,\n",
    "                repetition_penalty=1.2,\n",
    "                num_return_sequences=1,\n",
    "                logits_processor=[\n",
    "                    lambda input_ids, scores: scores\n",
    "                ]\n",
    "            )\n",
    "        sentence = tokenizer.decode(output[0], skip_special_tokens=True)\n",
    "        generated.append(sentence)\n",
    "\n",
    "    return generated\n",
    "\n",
    "\n",
    "\n",
    "# === Example: Generate 10 Sentences ===\n",
    "print(\"\\nGenerated sentences:\\n\")\n",
    "for s in generate_sentences(n=10):\n",
    "    print(\"-\", s)\n"
   ],
   "id": "b569027b78a2c819",
   "outputs": [
    {
     "name": "stderr",
     "output_type": "stream",
     "text": [
      "/home/mamdouh/anaconda3/envs/test/lib/python3.10/site-packages/transformers/data/datasets/language_modeling.py:53: FutureWarning: This dataset will be removed from the library soon, preprocessing should be handled with the 🤗 Datasets library. You can have a look at this example script for pointers: https://github.com/huggingface/transformers/blob/main/examples/pytorch/language-modeling/run_mlm.py\n",
      "  warnings.warn(\n"
     ]
    },
    {
     "name": "stdout",
     "output_type": "stream",
     "text": [
      "Starting fine-tuning...\n",
      "{'loss': 4.1049, 'grad_norm': 8.303450584411621, 'learning_rate': 4.853202846975089e-05, 'epoch': 0.08896797153024912}\n",
      "{'loss': 3.6498, 'grad_norm': 8.856405258178711, 'learning_rate': 4.704922894424674e-05, 'epoch': 0.17793594306049823}\n",
      "{'loss': 3.4749, 'grad_norm': 6.825517654418945, 'learning_rate': 4.556642941874259e-05, 'epoch': 0.2669039145907473}\n",
      "{'loss': 3.3306, 'grad_norm': 7.1231584548950195, 'learning_rate': 4.408362989323844e-05, 'epoch': 0.35587188612099646}\n",
      "{'loss': 3.2334, 'grad_norm': 7.878901481628418, 'learning_rate': 4.260083036773429e-05, 'epoch': 0.44483985765124556}\n",
      "{'loss': 3.1716, 'grad_norm': 7.45532751083374, 'learning_rate': 4.111803084223013e-05, 'epoch': 0.5338078291814946}\n",
      "{'loss': 3.0877, 'grad_norm': 6.144520282745361, 'learning_rate': 3.9635231316725976e-05, 'epoch': 0.6227758007117438}\n",
      "{'loss': 2.9998, 'grad_norm': 5.63187837600708, 'learning_rate': 3.815243179122183e-05, 'epoch': 0.7117437722419929}\n",
      "{'loss': 2.9856, 'grad_norm': 5.913718223571777, 'learning_rate': 3.666963226571768e-05, 'epoch': 0.800711743772242}\n",
      "{'loss': 2.9495, 'grad_norm': 6.510805130004883, 'learning_rate': 3.518683274021353e-05, 'epoch': 0.8896797153024911}\n",
      "{'loss': 2.9462, 'grad_norm': 5.5723557472229, 'learning_rate': 3.370403321470937e-05, 'epoch': 0.9786476868327402}\n",
      "{'loss': 2.8493, 'grad_norm': 4.873306751251221, 'learning_rate': 3.222123368920522e-05, 'epoch': 1.0676156583629894}\n",
      "{'loss': 2.7586, 'grad_norm': 5.1525068283081055, 'learning_rate': 3.073843416370107e-05, 'epoch': 1.1565836298932384}\n",
      "{'loss': 2.7572, 'grad_norm': 5.855119705200195, 'learning_rate': 2.9255634638196914e-05, 'epoch': 1.2455516014234875}\n",
      "{'loss': 2.7336, 'grad_norm': 5.196103572845459, 'learning_rate': 2.7772835112692762e-05, 'epoch': 1.3345195729537367}\n",
      "{'loss': 2.7467, 'grad_norm': 4.888758659362793, 'learning_rate': 2.629003558718861e-05, 'epoch': 1.4234875444839858}\n",
      "{'loss': 2.7213, 'grad_norm': 5.240562438964844, 'learning_rate': 2.480723606168446e-05, 'epoch': 1.512455516014235}\n",
      "{'loss': 2.7067, 'grad_norm': 4.727097988128662, 'learning_rate': 2.332443653618031e-05, 'epoch': 1.601423487544484}\n",
      "{'loss': 2.6352, 'grad_norm': 4.466095447540283, 'learning_rate': 2.1841637010676158e-05, 'epoch': 1.690391459074733}\n",
      "{'loss': 2.6627, 'grad_norm': 5.006927013397217, 'learning_rate': 2.0358837485172005e-05, 'epoch': 1.7793594306049823}\n",
      "{'loss': 2.678, 'grad_norm': 4.638930320739746, 'learning_rate': 1.8876037959667853e-05, 'epoch': 1.8683274021352312}\n",
      "{'loss': 2.6065, 'grad_norm': 4.715505123138428, 'learning_rate': 1.7393238434163704e-05, 'epoch': 1.9572953736654806}\n",
      "{'loss': 2.5888, 'grad_norm': 4.625917434692383, 'learning_rate': 1.591043890865955e-05, 'epoch': 2.0462633451957295}\n",
      "{'loss': 2.6009, 'grad_norm': 4.985777854919434, 'learning_rate': 1.4427639383155397e-05, 'epoch': 2.135231316725979}\n",
      "{'loss': 2.5581, 'grad_norm': 4.786502838134766, 'learning_rate': 1.2944839857651247e-05, 'epoch': 2.224199288256228}\n",
      "{'loss': 2.523, 'grad_norm': 4.6971564292907715, 'learning_rate': 1.1462040332147095e-05, 'epoch': 2.3131672597864767}\n",
      "{'loss': 2.5439, 'grad_norm': 4.599563121795654, 'learning_rate': 9.979240806642942e-06, 'epoch': 2.402135231316726}\n",
      "{'loss': 2.537, 'grad_norm': 4.306800842285156, 'learning_rate': 8.496441281138791e-06, 'epoch': 2.491103202846975}\n",
      "{'loss': 2.5551, 'grad_norm': 4.548830986022949, 'learning_rate': 7.013641755634638e-06, 'epoch': 2.580071174377224}\n",
      "{'loss': 2.4868, 'grad_norm': 5.177000045776367, 'learning_rate': 5.530842230130487e-06, 'epoch': 2.6690391459074734}\n",
      "{'loss': 2.5467, 'grad_norm': 4.5936760902404785, 'learning_rate': 4.048042704626335e-06, 'epoch': 2.7580071174377223}\n",
      "{'loss': 2.5248, 'grad_norm': 4.772824287414551, 'learning_rate': 2.565243179122183e-06, 'epoch': 2.8469750889679717}\n",
      "{'loss': 2.5332, 'grad_norm': 4.648942947387695, 'learning_rate': 1.0824436536180309e-06, 'epoch': 2.9359430604982206}\n",
      "{'train_runtime': 259.3882, 'train_samples_per_second': 103.999, 'train_steps_per_second': 13.0, 'train_loss': 2.8359980735914565, 'epoch': 3.0}\n",
      "✅ Finetuning complete!\n",
      "\n",
      "Generated sentences:\n",
      "\n",
      "- The money is paid completely That man has no debts\n",
      "Witness Nabû-remanni priest of the king my lord Witness Mannu guard keeper chariot driver and ditto horse trainer from Nineveh Šamaš Aya Bel Adad\n",
      "- The king has contracted and bought her for 5 minas of silver\n",
      "To the queen my lord your servant NN Good health to the crown prince May Nabû Marduk Ninurta blesses Esarhaddon great lady Sennacher\n",
      "- With the support of my great divinity Šamaš and Marduk I marched to Nineveh in order to save their lives they were trampled by a ferocious enemy that had not bowed down to me\n",
      "As for him Nabû-\n",
      "- The king my lord can be glad\n",
      "I have written to the crown prince I will send him a letter with his original report and should he return it He shall pay in 10 minas of silver on x seahs per day The money is paid\n",
      "- a total of 4 persons servants\n",
      "Witness Nabû-ahuṣir son of Sinanu ditto Witness NN scribe keeper of the contract and seal from Tishri VII — Ištar is herewith sending word to give them\n",
      "- In the future may one of his descendants whom he names in this papyrus write to me with a favorable verdict concerning Šamaš-abu and Nergal\n",
      "Palace of Ashurnasirpal II king of Assyria son\n",
      "- If you place a sheep before the table and pour oil honey beer wine milk\n",
      "I have now dispatched my messenger to inquire about this matter The king should do as he deems best. If it is agreeable with him may I see your report May one\n",
      "- To the king my lord your servant Ašared-naid Good health to the crown prince\n",
      "I am sending two teams of horses with me and we shall go tomorrow — I have already sent three team commanders The rest are in Durbarria\n",
      "- I Ashurbanipal great king strong royal father who from the beginning of my kingship until now had not bowed down to any authority or placed an equal trust in his own strength ii 15 I am one who has grasped hold of a staff fashioned by\n",
      "- Seal of Ištar-remanni\n",
      "I built and completed it from its foundations to its crenellations for the god Šamaḫ my lord vi 10 With regard as a temple or abode an ancient palace whose\n"
     ]
    }
   ],
   "execution_count": 22
  },
  {
   "metadata": {
    "execution": {
     "iopub.execute_input": "2025-05-12T15:50:04.882172Z",
     "iopub.status.busy": "2025-05-12T15:50:04.881874Z",
     "iopub.status.idle": "2025-05-12T18:05:12.812496Z",
     "shell.execute_reply": "2025-05-12T18:05:12.811810Z",
     "shell.execute_reply.started": "2025-05-12T15:50:04.882150Z"
    },
    "ExecuteTime": {
     "end_time": "2025-09-09T08:01:08.000659Z",
     "start_time": "2025-09-09T06:11:04.263659Z"
    }
   },
   "cell_type": "code",
   "source": "en_sentences = generate_sentences(n=18000)",
   "id": "e4844e009de8a8c0",
   "outputs": [],
   "execution_count": 23
  },
  {
   "metadata": {
    "ExecuteTime": {
     "end_time": "2025-09-09T08:01:08.188443Z",
     "start_time": "2025-09-09T08:01:08.185313Z"
    }
   },
   "cell_type": "code",
   "source": [
    "import re\n",
    "\n",
    "def clean_text(text):\n",
    "    # Remove non-printable characters (e.g., weird unicode control chars)\n",
    "    text = re.sub(r'\\n', ' ', text)\n",
    "    # Normalize multiple spaces\n",
    "    text = re.sub(r'\\s+', ' ', text).strip()\n",
    "    return text"
   ],
   "id": "22e6442632e01165",
   "outputs": [],
   "execution_count": 24
  },
  {
   "metadata": {
    "ExecuteTime": {
     "end_time": "2025-09-09T08:01:08.438470Z",
     "start_time": "2025-09-09T08:01:08.235405Z"
    }
   },
   "cell_type": "code",
   "source": [
    "with open(\"generated.txt\", 'w') as f:\n",
    "    for sent in en_sentences:\n",
    "        f.write(clean_text(sent).strip() + '\\n')"
   ],
   "id": "cf0cefdec34c65d",
   "outputs": [],
   "execution_count": 25
  },
  {
   "metadata": {},
   "cell_type": "markdown",
   "source": "## Generate english sentences",
   "id": "736ef0381edefe2d"
  },
  {
   "metadata": {
    "execution": {
     "iopub.execute_input": "2025-05-12T01:32:05.483391Z",
     "iopub.status.busy": "2025-05-12T01:32:05.482788Z",
     "iopub.status.idle": "2025-05-12T01:32:05.549064Z",
     "shell.execute_reply": "2025-05-12T01:32:05.548041Z",
     "shell.execute_reply.started": "2025-05-12T01:32:05.483368Z"
    },
    "ExecuteTime": {
     "end_time": "2025-09-09T08:01:11.135772Z",
     "start_time": "2025-09-09T08:01:08.450540Z"
    }
   },
   "cell_type": "code",
   "source": [
    "from transformers import GPT2LMHeadModel, GPT2Tokenizer\n",
    "import torch\n",
    "\n",
    "# === Load the Fine-tuned Model and Tokenizer ===\n",
    "model = GPT2LMHeadModel.from_pretrained(\"gpt2-finetuned\").to(\"cuda\" if torch.cuda.is_available() else \"cpu\")\n",
    "tokenizer = GPT2Tokenizer.from_pretrained(\"gpt2-finetuned\")\n",
    "\n",
    "# === Controlled Sentence Generation (Top-p sampling) ===\n",
    "def generate_sentence(prompt, max_length=50, top_p=0.95, temperature=1.0):\n",
    "    model.eval()\n",
    "    inputs = tokenizer(prompt, return_tensors=\"pt\").to(model.device)\n",
    "\n",
    "    # Generate output using top-p sampling (nucleus sampling)\n",
    "    outputs = model.generate(\n",
    "        **inputs,\n",
    "        max_length=max_length,\n",
    "        do_sample=True,\n",
    "        top_p=top_p,  # Control diversity with top-p\n",
    "        temperature=temperature,  # Control creativity with temperature\n",
    "        top_k=50,  # Top-k filtering (optional, can be adjusted)\n",
    "        repetition_penalty=1.2,  # Penalize repetition of the same phrase\n",
    "        num_return_sequences=1  # Generate one sequence at a time\n",
    "    )\n",
    "\n",
    "    return tokenizer.decode(outputs[0], skip_special_tokens=True)\n",
    "\n",
    "# === Example: Generate Sentences ===\n",
    "prompt = \"Once upon a time\"\n",
    "generated_sentence = generate_sentence(prompt)\n",
    "print(\"Generated sentence:\", generated_sentence)\n"
   ],
   "id": "d9bd42ab3909bea5",
   "outputs": [
    {
     "name": "stdout",
     "output_type": "stream",
     "text": [
      "Generated sentence: Once upon a time when they were in Egypt or the passes of distant lands and who had not bowed down to my yoke I marched about conquering like an army Moving on from Calah there is trouble with it If one man at his disposal comes near\n"
     ]
    }
   ],
   "execution_count": 26
  },
  {
   "metadata": {},
   "cell_type": "markdown",
   "source": "# Data Synthesis method",
   "id": "18f7a1070a4be587"
  },
  {
   "metadata": {},
   "cell_type": "markdown",
   "source": "## Train EN to Ak Model",
   "id": "eb45327737591f58"
  },
  {
   "metadata": {
    "execution": {
     "iopub.execute_input": "2025-05-16T10:28:20.637696Z",
     "iopub.status.busy": "2025-05-16T10:28:20.637349Z",
     "iopub.status.idle": "2025-05-16T10:28:20.643402Z",
     "shell.execute_reply": "2025-05-16T10:28:20.642603Z",
     "shell.execute_reply.started": "2025-05-16T10:28:20.637668Z"
    },
    "ExecuteTime": {
     "end_time": "2025-09-09T08:01:11.202149Z",
     "start_time": "2025-09-09T08:01:11.198511Z"
    }
   },
   "cell_type": "code",
   "source": [
    "def tokenize_function(examples, max_len=200):\n",
    "    eos_token_id = tokenizer.eos_token_id\n",
    "\n",
    "    # Tokenize inputs and labels first, without padding\n",
    "    inputs = tokenizer(\n",
    "        examples[\"en\"],\n",
    "        truncation=True,\n",
    "        max_length=max_len,\n",
    "        padding=False\n",
    "    )[\"input_ids\"]\n",
    "\n",
    "    labels = tokenizer(\n",
    "        examples[\"tr\"],\n",
    "        truncation=True,\n",
    "        max_length=max_len,\n",
    "        padding=False\n",
    "    )[\"input_ids\"]\n",
    "\n",
    "    inputs_with_eos = [seq + [eos_token_id] if eos_token_id not in seq else seq for seq in inputs]\n",
    "    labels_with_eos = [seq + [eos_token_id] if eos_token_id not in seq else seq for seq in labels]\n",
    "\n",
    "    # Pad\n",
    "    padded_inputs = tokenizer.pad(\n",
    "        {\"input_ids\": inputs_with_eos},\n",
    "        padding=\"max_length\",\n",
    "        max_length=max_len,\n",
    "        return_attention_mask=True\n",
    "    )\n",
    "    padded_labels = tokenizer.pad(\n",
    "        {\"input_ids\": labels_with_eos},\n",
    "        padding=\"max_length\",\n",
    "        max_length=max_len\n",
    "    )\n",
    "\n",
    "    input_ids = padded_inputs[\"input_ids\"]\n",
    "    attention_mask = padded_inputs[\"attention_mask\"]\n",
    "    label_ids = padded_labels[\"input_ids\"]\n",
    "\n",
    "    return {\n",
    "    \"input_ids\": input_ids,\n",
    "    \"attention_mask\": attention_mask,\n",
    "    \"labels\": label_ids\n",
    "    }\n"
   ],
   "id": "effa2dc0b53eb99b",
   "outputs": [],
   "execution_count": 27
  },
  {
   "metadata": {},
   "cell_type": "markdown",
   "source": "### Download model for checkpoint",
   "id": "5f49d17b5aae4cd4"
  },
  {
   "metadata": {
    "execution": {
     "iopub.execute_input": "2025-05-16T10:29:19.632937Z",
     "iopub.status.busy": "2025-05-16T10:29:19.632637Z",
     "iopub.status.idle": "2025-05-16T10:29:36.688227Z",
     "shell.execute_reply": "2025-05-16T10:29:36.687429Z",
     "shell.execute_reply.started": "2025-05-16T10:29:19.632912Z"
    },
    "ExecuteTime": {
     "end_time": "2025-09-09T08:01:13.419099Z",
     "start_time": "2025-09-09T08:01:11.253060Z"
    }
   },
   "cell_type": "code",
   "source": [
    "model_checkpoint_old = \"Helsinki-NLP/opus-mt-ROMANCE-en\"\n",
    "model_checkpoint = \"models/EN_TO_AK\"\n",
    "tokenizer_checkpoint = \"models/EN_TO_AK\"\n",
    "tokenizer_checkpoint_old = \"Helsinki-NLP/opus-mt-ROMANCE-en\"\n",
    "\n",
    "\n",
    "tokenizer = AutoTokenizer.from_pretrained(model_checkpoint_old)\n",
    "model = AutoModelForSeq2SeqLM.from_pretrained(tokenizer_checkpoint_old)\n",
    "\n",
    "device = torch.device(\"cuda\" if torch.cuda.is_available() else \"cpu\")\n",
    "\n",
    "model.to(device)\n",
    "print()"
   ],
   "id": "21606211bf3cab22",
   "outputs": [
    {
     "name": "stdout",
     "output_type": "stream",
     "text": [
      "\n"
     ]
    }
   ],
   "execution_count": 28
  },
  {
   "metadata": {
    "execution": {
     "iopub.execute_input": "2025-05-16T10:29:42.181279Z",
     "iopub.status.busy": "2025-05-16T10:29:42.180456Z",
     "iopub.status.idle": "2025-05-16T10:29:42.279689Z",
     "shell.execute_reply": "2025-05-16T10:29:42.279108Z",
     "shell.execute_reply.started": "2025-05-16T10:29:42.181252Z"
    },
    "ExecuteTime": {
     "end_time": "2025-09-09T08:01:13.706771Z",
     "start_time": "2025-09-09T08:01:13.499342Z"
    }
   },
   "cell_type": "code",
   "source": [
    "def load_data(en_file, tr_file):\n",
    "    en_file = \"data_directories/final_data/\" + en_file\n",
    "    tr_file = \"data_directories/final_data/\" + tr_file\n",
    "    # en_file = \"archive/\" + en_file\n",
    "    # tr_file = \"archive/\" + tr_file\n",
    "    with open(en_file, 'r', encoding='utf-8') as file:\n",
    "        en_texts = file.read().strip().split('\\n')\n",
    "    with open(tr_file, 'r', encoding='utf-8') as file:\n",
    "        tr_texts = file.read().strip().split('\\n')\n",
    "    return pd.DataFrame({'en': en_texts, 'tr': tr_texts})\n",
    "\n",
    "# train_data = load_data('new_combined_data.en', \"new_combined_data.tr\")\n",
    "train_data = load_data(\"english_train.txt\", \"akkadian_train.txt\")\n",
    "val_data = load_data(\"english_val.txt\", \"akkadian_val.txt\")\n",
    "test_data = load_data(\"english_test.txt\", \"akkadian_test.txt\")"
   ],
   "id": "d5653ce4b993b6ca",
   "outputs": [],
   "execution_count": 29
  },
  {
   "metadata": {
    "execution": {
     "iopub.execute_input": "2025-05-16T10:29:50.082830Z",
     "iopub.status.busy": "2025-05-16T10:29:50.082200Z",
     "iopub.status.idle": "2025-05-16T10:29:50.159670Z",
     "shell.execute_reply": "2025-05-16T10:29:50.159077Z",
     "shell.execute_reply.started": "2025-05-16T10:29:50.082803Z"
    },
    "ExecuteTime": {
     "end_time": "2025-09-09T08:01:13.789233Z",
     "start_time": "2025-09-09T08:01:13.711311Z"
    }
   },
   "cell_type": "code",
   "source": [
    "# Here, we have sentence pairs\n",
    "train_dataset = Dataset.from_pandas(train_data)\n",
    "val_dataset = Dataset.from_pandas(val_data)\n",
    "test_dataset = Dataset.from_pandas(test_data)"
   ],
   "id": "e48be3d97607e1ff",
   "outputs": [],
   "execution_count": 30
  },
  {
   "metadata": {
    "execution": {
     "iopub.execute_input": "2025-05-16T10:29:51.225141Z",
     "iopub.status.busy": "2025-05-16T10:29:51.224605Z",
     "iopub.status.idle": "2025-05-16T10:30:08.966293Z",
     "shell.execute_reply": "2025-05-16T10:30:08.965489Z",
     "shell.execute_reply.started": "2025-05-16T10:29:51.225109Z"
    },
    "ExecuteTime": {
     "end_time": "2025-09-09T08:01:29.590698Z",
     "start_time": "2025-09-09T08:01:13.805675Z"
    }
   },
   "cell_type": "code",
   "source": [
    "tokenized_train = train_dataset.map(tokenize_function, batched=True)\n",
    "tokenized_val = val_dataset.map(tokenize_function, batched=True)\n",
    "tokenized_test = test_dataset.map(tokenize_function, batched=True)\n",
    "\n",
    "\n",
    "class CustomDataset(torch.utils.data.Dataset):\n",
    "    def __init__(self, tokenized_data):\n",
    "        self.input_ids = tokenized_data['input_ids']\n",
    "        self.attention_mask = tokenized_data['attention_mask']\n",
    "        self.labels = tokenized_data['labels']\n",
    "\n",
    "    def __len__(self):\n",
    "        return len(self.input_ids)\n",
    "\n",
    "    def __getitem__(self, idx):\n",
    "        return {\n",
    "            'input_ids': torch.tensor(self.input_ids[idx], dtype=torch.long),\n",
    "            'attention_mask': torch.tensor(self.attention_mask[idx], dtype=torch.long),\n",
    "            'labels': torch.tensor(self.labels[idx], dtype=torch.long)\n",
    "        }\n",
    "\n",
    "\n",
    "train_loader = DataLoader(CustomDataset(tokenized_train), batch_size=8, shuffle=True)\n",
    "valid_loader = DataLoader(CustomDataset(tokenized_val), batch_size=8)\n",
    "test_loader = DataLoader(CustomDataset(tokenized_test), batch_size=8)"
   ],
   "id": "a6cae86593f2f68e",
   "outputs": [
    {
     "data": {
      "text/plain": [
       "Map:   0%|          | 0/31256 [00:00<?, ? examples/s]"
      ],
      "application/vnd.jupyter.widget-view+json": {
       "version_major": 2,
       "version_minor": 0,
       "model_id": "dfe356fd24594156abd727007db58fda"
      }
     },
     "metadata": {},
     "output_type": "display_data"
    },
    {
     "data": {
      "text/plain": [
       "Map:   0%|          | 0/1000 [00:00<?, ? examples/s]"
      ],
      "application/vnd.jupyter.widget-view+json": {
       "version_major": 2,
       "version_minor": 0,
       "model_id": "9e1bd7437260449f9aa49bb509dff5c1"
      }
     },
     "metadata": {},
     "output_type": "display_data"
    },
    {
     "data": {
      "text/plain": [
       "Map:   0%|          | 0/1000 [00:00<?, ? examples/s]"
      ],
      "application/vnd.jupyter.widget-view+json": {
       "version_major": 2,
       "version_minor": 0,
       "model_id": "0448b32d4d274ab3b4aabc992935b854"
      }
     },
     "metadata": {},
     "output_type": "display_data"
    }
   ],
   "execution_count": 31
  },
  {
   "metadata": {
    "execution": {
     "iopub.execute_input": "2025-06-11T17:48:41.775665Z",
     "iopub.status.busy": "2025-06-11T17:48:41.775485Z",
     "iopub.status.idle": "2025-06-11T17:48:41.827243Z",
     "shell.execute_reply": "2025-06-11T17:48:41.826423Z",
     "shell.execute_reply.started": "2025-06-11T17:48:41.775651Z"
    },
    "ExecuteTime": {
     "end_time": "2025-09-09T08:01:29.663597Z",
     "start_time": "2025-09-09T08:01:29.660709Z"
    }
   },
   "cell_type": "code",
   "source": [
    "def save_model(model, tokenizer, optimizer, dataset_id):\n",
    "    import os\n",
    "    import json\n",
    "    import torch\n",
    "\n",
    "    save_path = \"models/\" + dataset_id\n",
    "    os.makedirs(save_path, exist_ok=True)\n",
    "\n",
    "    # Save model and tokenizer\n",
    "    model.save_pretrained(save_path)\n",
    "    tokenizer.save_pretrained(save_path)\n",
    "\n",
    "    # Save optimizer state only\n",
    "    torch.save(optimizer.state_dict(), os.path.join(save_path, \"optimizer.pt\"))\n"
   ],
   "id": "eb4d835345cb7fc3",
   "outputs": [],
   "execution_count": 32
  },
  {
   "metadata": {
    "execution": {
     "iopub.execute_input": "2025-06-12T02:32:00.348240Z",
     "iopub.status.busy": "2025-06-12T02:32:00.347922Z",
     "iopub.status.idle": "2025-06-12T02:32:00.381689Z",
     "shell.execute_reply": "2025-06-12T02:32:00.380554Z",
     "shell.execute_reply.started": "2025-06-12T02:32:00.348214Z"
    },
    "ExecuteTime": {
     "end_time": "2025-09-09T08:01:29.714713Z",
     "start_time": "2025-09-09T08:01:29.710118Z"
    }
   },
   "cell_type": "code",
   "source": [
    "\n",
    "import pandas as pd\n",
    "import os\n",
    "import json\n",
    "\n",
    "def save_training_results(train_losses, val_losses, train_accuracies, val_accuracies, extension_name, output_dir=\"./results\", create=False):\n",
    "    \"\"\"\n",
    "    Saves training and validation metrics to a CSV file with a custom extension.\n",
    "    If the file exists, appends new rows to it.\n",
    "    \"\"\"\n",
    "    # Use local directory instead of Kaggle paths\n",
    "\n",
    "    filename = os.path.join(output_dir, f\"results_{extension_name}.csv\")\n",
    "\n",
    "    # Determine starting epoch number\n",
    "    starting_epoch = 1\n",
    "\n",
    "    if not create and os.path.exists(filename):\n",
    "        # Check existing file for epoch count\n",
    "\n",
    "        print(\"Checking existing file for epoch count...\")\n",
    "        existing_df = pd.read_csv(filename)\n",
    "        if len(existing_df) > 0:\n",
    "            starting_epoch = existing_df['Epoch'].max() + 1\n",
    "\n",
    "\n",
    "    # Create DataFrame for new results with continuous epoch numbering\n",
    "    new_results_df = pd.DataFrame({\n",
    "        \"Epoch\": list(range(starting_epoch, starting_epoch + len(train_losses))),\n",
    "        \"Train Loss\": train_losses,\n",
    "        \"Train Accuracy\": train_accuracies,\n",
    "        \"Validation Loss\": val_losses,\n",
    "        \"Validation Accuracy\": val_accuracies\n",
    "    })\n",
    "\n",
    "\n",
    "    if create or not os.path.exists(filename):\n",
    "        # Creating new file - just use new results\n",
    "        combined_df = new_results_df\n",
    "    else:\n",
    "        # Append to existing data\n",
    "        try:\n",
    "            existing_df = pd.read_csv(filename)\n",
    "            # Simply concatenate - no need to check for duplicates since we're using continuous numbering\n",
    "            combined_df = pd.concat([existing_df, new_results_df], ignore_index=True)\n",
    "\n",
    "        except Exception as e:\n",
    "            combined_df = new_results_df\n",
    "\n",
    "    # Save the combined DataFrame\n",
    "    combined_df.to_csv(filename, index=False)\n",
    "\n",
    "    return filename"
   ],
   "id": "4979474a2d88f02",
   "outputs": [],
   "execution_count": 33
  },
  {
   "metadata": {
    "ExecuteTime": {
     "end_time": "2025-09-09T08:01:29.769082Z",
     "start_time": "2025-09-09T08:01:29.762964Z"
    }
   },
   "cell_type": "code",
   "source": [
    "optimizer = AdamW(model.parameters(), lr=5e-5)\n",
    "# optimizer.load_state_dict(torch.load(\"models/baseline_label_smoothing_lr_scheduler/optimizer.pt\"))\n",
    "# scheduler = get_scheduler(\"linear\", optimizer=optimizer, num_warmup_steps=0,\n",
    "#                           num_training_steps=num_epochs * len(train_loader))"
   ],
   "id": "93c9e49ae79c6679",
   "outputs": [],
   "execution_count": 34
  },
  {
   "metadata": {
    "collapsed": true,
    "execution": {
     "iopub.execute_input": "2025-05-15T15:25:11.158872Z",
     "iopub.status.busy": "2025-05-15T15:25:11.158063Z"
    },
    "jupyter": {
     "outputs_hidden": true
    },
    "ExecuteTime": {
     "end_time": "2025-09-09T15:57:31.281169Z",
     "start_time": "2025-09-09T08:01:29.817564Z"
    }
   },
   "cell_type": "code",
   "source": [
    "train_losses = []\n",
    "val_losses = []\n",
    "train_accuracies = []\n",
    "val_accuracies = []\n",
    "\n",
    "save_freq = 2\n",
    "num_epochs = 100\n",
    "\n",
    "# Double-check it's correct\n",
    "pad_token_id = tokenizer.pad_token_id\n",
    "for epoch in range(num_epochs):\n",
    "    model.train()\n",
    "    train_loss, train_correct, train_total = 0, 0, 0\n",
    "    for batch in tqdm(train_loader, desc=f\"Training Epoch {epoch + 1}\"):\n",
    "        batch = {k: v.to(device) for k, v in batch.items()}\n",
    "        outputs = model(**batch)\n",
    "        logits = outputs.logits\n",
    "        labels = batch['labels']\n",
    "\n",
    "        # Compute loss ignoring pad tokens\n",
    "        loss = F.cross_entropy(\n",
    "            logits.view(-1, logits.size(-1)),\n",
    "            labels.view(-1),\n",
    "            ignore_index=pad_token_id,\n",
    "            reduction='mean',\n",
    "            label_smoothing = 0.1\n",
    "        )\n",
    "        optimizer.zero_grad()\n",
    "        loss.backward()\n",
    "        optimizer.step()\n",
    "        # scheduler.step()\n",
    "        train_loss += loss.item()\n",
    "\n",
    "        # Compute accuracy ignoring pad tokens\n",
    "        _, predicted = torch.max(logits, dim=-1)\n",
    "        active_positions = (labels != -100) & (labels != pad_token_id)\n",
    "        train_correct += (predicted[active_positions] == labels[active_positions]).sum().item()\n",
    "        train_total += active_positions.sum().item()\n",
    "\n",
    "    avg_train_loss = train_loss / len(train_loader)\n",
    "    train_accuracy = 100 * train_correct / train_total\n",
    "    train_losses.append(avg_train_loss)\n",
    "    train_accuracies.append(train_accuracy)\n",
    "    print(f\"Epoch {epoch + 1}: Train Loss = {avg_train_loss:.4f}, Train Accuracy = {train_accuracy:.2f}%\")\n",
    "\n",
    "    # Validation\n",
    "    model.eval()\n",
    "    val_loss, val_correct, val_total = 0, 0, 0\n",
    "    with torch.no_grad():\n",
    "        for batch in tqdm(valid_loader, desc=f\"Validation Epoch {epoch + 1}\"):\n",
    "            batch = {k: v.to(device) for k, v in batch.items()}\n",
    "            outputs = model(**batch)\n",
    "            logits = outputs.logits\n",
    "            labels = batch['labels']\n",
    "\n",
    "            loss = F.cross_entropy(\n",
    "                logits.view(-1, logits.size(-1)),\n",
    "                labels.view(-1),\n",
    "                ignore_index=pad_token_id,\n",
    "                reduction='mean'\n",
    "            )\n",
    "            val_loss += loss.item()\n",
    "\n",
    "            _, predicted = torch.max(logits, dim=-1)\n",
    "            active_positions = (labels != -100) & (labels != pad_token_id)\n",
    "            val_correct += (predicted[active_positions] == labels[active_positions]).sum().item()\n",
    "            val_total += active_positions.sum().item()\n",
    "\n",
    "    avg_val_loss = val_loss / len(valid_loader)\n",
    "    val_accuracy = 100 * val_correct / val_total\n",
    "    val_losses.append(avg_val_loss)\n",
    "    val_accuracies.append(val_accuracy)\n",
    "    print(f\"Epoch {epoch + 1}: Validation Loss = {avg_val_loss:.4f}, Validation Accuracy = {val_accuracy:.2f}%\")\n",
    "\n",
    "    if (epoch+1) % save_freq == 0:\n",
    "        save_model(model, tokenizer, optimizer, \"EN_TO_AK\")\n",
    "        save_training_results(train_losses,val_losses, train_accuracies, val_accuracies, extension_name=\"EN_TO_AK\")\n",
    "        train_losses = []\n",
    "        val_losses = []\n",
    "        train_accuracies = []\n",
    "        val_accuracies = []\n"
   ],
   "id": "e4fcaff2e3b6afd",
   "outputs": [
    {
     "data": {
      "text/plain": [
       "Training Epoch 1:   0%|          | 0/3907 [00:00<?, ?it/s]"
      ],
      "application/vnd.jupyter.widget-view+json": {
       "version_major": 2,
       "version_minor": 0,
       "model_id": "c31c7106e2384f2ab83cddb98abd152d"
      }
     },
     "metadata": {},
     "output_type": "display_data"
    },
    {
     "name": "stdout",
     "output_type": "stream",
     "text": [
      "Epoch 1: Train Loss = 3.2667, Train Accuracy = 55.52%\n"
     ]
    },
    {
     "data": {
      "text/plain": [
       "Validation Epoch 1:   0%|          | 0/125 [00:00<?, ?it/s]"
      ],
      "application/vnd.jupyter.widget-view+json": {
       "version_major": 2,
       "version_minor": 0,
       "model_id": "3354edaee6fd4f1ab71fe7c4a75b6fbf"
      }
     },
     "metadata": {},
     "output_type": "display_data"
    },
    {
     "name": "stdout",
     "output_type": "stream",
     "text": [
      "Epoch 1: Validation Loss = 1.4453, Validation Accuracy = 67.71%\n"
     ]
    },
    {
     "data": {
      "text/plain": [
       "Training Epoch 2:   0%|          | 0/3907 [00:00<?, ?it/s]"
      ],
      "application/vnd.jupyter.widget-view+json": {
       "version_major": 2,
       "version_minor": 0,
       "model_id": "ced177e26b0543d68354a78bac382b24"
      }
     },
     "metadata": {},
     "output_type": "display_data"
    },
    {
     "name": "stdout",
     "output_type": "stream",
     "text": [
      "Epoch 2: Train Loss = 2.6181, Train Accuracy = 69.20%\n"
     ]
    },
    {
     "data": {
      "text/plain": [
       "Validation Epoch 2:   0%|          | 0/125 [00:00<?, ?it/s]"
      ],
      "application/vnd.jupyter.widget-view+json": {
       "version_major": 2,
       "version_minor": 0,
       "model_id": "bdc4de1d57e84b49a899c4ba414d51f4"
      }
     },
     "metadata": {},
     "output_type": "display_data"
    },
    {
     "name": "stdout",
     "output_type": "stream",
     "text": [
      "Epoch 2: Validation Loss = 1.1614, Validation Accuracy = 73.86%\n"
     ]
    },
    {
     "name": "stderr",
     "output_type": "stream",
     "text": [
      "/home/mamdouh/anaconda3/envs/test/lib/python3.10/site-packages/transformers/modeling_utils.py:3339: UserWarning: Moving the following attributes in the config to the generation config: {'max_length': 512, 'num_beams': 4, 'bad_words_ids': [[65000]]}. You are seeing this warning because you've set generation parameters in the model config, as opposed to in the generation config.\n",
      "  warnings.warn(\n"
     ]
    },
    {
     "name": "stdout",
     "output_type": "stream",
     "text": [
      "Checking existing file for epoch count...\n"
     ]
    },
    {
     "data": {
      "text/plain": [
       "Training Epoch 3:   0%|          | 0/3907 [00:00<?, ?it/s]"
      ],
      "application/vnd.jupyter.widget-view+json": {
       "version_major": 2,
       "version_minor": 0,
       "model_id": "2f3a0f65faa645fc9166349edfbca556"
      }
     },
     "metadata": {},
     "output_type": "display_data"
    },
    {
     "name": "stdout",
     "output_type": "stream",
     "text": [
      "Epoch 3: Train Loss = 2.3939, Train Accuracy = 74.52%\n"
     ]
    },
    {
     "data": {
      "text/plain": [
       "Validation Epoch 3:   0%|          | 0/125 [00:00<?, ?it/s]"
      ],
      "application/vnd.jupyter.widget-view+json": {
       "version_major": 2,
       "version_minor": 0,
       "model_id": "bd30dc7d6f174712a0920351e8a6c5ae"
      }
     },
     "metadata": {},
     "output_type": "display_data"
    },
    {
     "name": "stdout",
     "output_type": "stream",
     "text": [
      "Epoch 3: Validation Loss = 1.0175, Validation Accuracy = 77.18%\n"
     ]
    },
    {
     "data": {
      "text/plain": [
       "Training Epoch 4:   0%|          | 0/3907 [00:00<?, ?it/s]"
      ],
      "application/vnd.jupyter.widget-view+json": {
       "version_major": 2,
       "version_minor": 0,
       "model_id": "c2f285c1717f49d2ad030062038a9691"
      }
     },
     "metadata": {},
     "output_type": "display_data"
    },
    {
     "name": "stdout",
     "output_type": "stream",
     "text": [
      "Epoch 4: Train Loss = 2.2613, Train Accuracy = 77.83%\n"
     ]
    },
    {
     "data": {
      "text/plain": [
       "Validation Epoch 4:   0%|          | 0/125 [00:00<?, ?it/s]"
      ],
      "application/vnd.jupyter.widget-view+json": {
       "version_major": 2,
       "version_minor": 0,
       "model_id": "6a91de01aceb4bbfac73c4031d12e956"
      }
     },
     "metadata": {},
     "output_type": "display_data"
    },
    {
     "name": "stdout",
     "output_type": "stream",
     "text": [
      "Epoch 4: Validation Loss = 0.9486, Validation Accuracy = 78.95%\n",
      "Checking existing file for epoch count...\n"
     ]
    },
    {
     "data": {
      "text/plain": [
       "Training Epoch 5:   0%|          | 0/3907 [00:00<?, ?it/s]"
      ],
      "application/vnd.jupyter.widget-view+json": {
       "version_major": 2,
       "version_minor": 0,
       "model_id": "b0b1e2bd43284a98b0fb120be7e40fa5"
      }
     },
     "metadata": {},
     "output_type": "display_data"
    },
    {
     "name": "stdout",
     "output_type": "stream",
     "text": [
      "Epoch 5: Train Loss = 2.1654, Train Accuracy = 80.27%\n"
     ]
    },
    {
     "data": {
      "text/plain": [
       "Validation Epoch 5:   0%|          | 0/125 [00:00<?, ?it/s]"
      ],
      "application/vnd.jupyter.widget-view+json": {
       "version_major": 2,
       "version_minor": 0,
       "model_id": "f3669f81abaa4af1a806bcbc635a043a"
      }
     },
     "metadata": {},
     "output_type": "display_data"
    },
    {
     "name": "stdout",
     "output_type": "stream",
     "text": [
      "Epoch 5: Validation Loss = 0.8850, Validation Accuracy = 80.53%\n"
     ]
    },
    {
     "data": {
      "text/plain": [
       "Training Epoch 6:   0%|          | 0/3907 [00:00<?, ?it/s]"
      ],
      "application/vnd.jupyter.widget-view+json": {
       "version_major": 2,
       "version_minor": 0,
       "model_id": "58581b91f8d048d4a2c3fc6936dce347"
      }
     },
     "metadata": {},
     "output_type": "display_data"
    },
    {
     "name": "stdout",
     "output_type": "stream",
     "text": [
      "Epoch 6: Train Loss = 2.0873, Train Accuracy = 82.26%\n"
     ]
    },
    {
     "data": {
      "text/plain": [
       "Validation Epoch 6:   0%|          | 0/125 [00:00<?, ?it/s]"
      ],
      "application/vnd.jupyter.widget-view+json": {
       "version_major": 2,
       "version_minor": 0,
       "model_id": "34f1a06bbc154a52a128668041613af7"
      }
     },
     "metadata": {},
     "output_type": "display_data"
    },
    {
     "name": "stdout",
     "output_type": "stream",
     "text": [
      "Epoch 6: Validation Loss = 0.8672, Validation Accuracy = 81.15%\n",
      "Checking existing file for epoch count...\n"
     ]
    },
    {
     "data": {
      "text/plain": [
       "Training Epoch 7:   0%|          | 0/3907 [00:00<?, ?it/s]"
      ],
      "application/vnd.jupyter.widget-view+json": {
       "version_major": 2,
       "version_minor": 0,
       "model_id": "236c0042cb8341fcb581be8258e2aa0c"
      }
     },
     "metadata": {},
     "output_type": "display_data"
    },
    {
     "name": "stdout",
     "output_type": "stream",
     "text": [
      "Epoch 7: Train Loss = 2.0276, Train Accuracy = 83.84%\n"
     ]
    },
    {
     "data": {
      "text/plain": [
       "Validation Epoch 7:   0%|          | 0/125 [00:00<?, ?it/s]"
      ],
      "application/vnd.jupyter.widget-view+json": {
       "version_major": 2,
       "version_minor": 0,
       "model_id": "9de85092db3047458a31b57c1aaf3705"
      }
     },
     "metadata": {},
     "output_type": "display_data"
    },
    {
     "name": "stdout",
     "output_type": "stream",
     "text": [
      "Epoch 7: Validation Loss = 0.8433, Validation Accuracy = 81.97%\n"
     ]
    },
    {
     "data": {
      "text/plain": [
       "Training Epoch 8:   0%|          | 0/3907 [00:00<?, ?it/s]"
      ],
      "application/vnd.jupyter.widget-view+json": {
       "version_major": 2,
       "version_minor": 0,
       "model_id": "37d40587195e4a5993048f6b5d45be9b"
      }
     },
     "metadata": {},
     "output_type": "display_data"
    },
    {
     "name": "stdout",
     "output_type": "stream",
     "text": [
      "Epoch 8: Train Loss = 1.9776, Train Accuracy = 85.17%\n"
     ]
    },
    {
     "data": {
      "text/plain": [
       "Validation Epoch 8:   0%|          | 0/125 [00:00<?, ?it/s]"
      ],
      "application/vnd.jupyter.widget-view+json": {
       "version_major": 2,
       "version_minor": 0,
       "model_id": "bcb88f16b2e746379fd1b5905645fb40"
      }
     },
     "metadata": {},
     "output_type": "display_data"
    },
    {
     "name": "stdout",
     "output_type": "stream",
     "text": [
      "Epoch 8: Validation Loss = 0.8165, Validation Accuracy = 82.64%\n",
      "Checking existing file for epoch count...\n"
     ]
    },
    {
     "data": {
      "text/plain": [
       "Training Epoch 9:   0%|          | 0/3907 [00:00<?, ?it/s]"
      ],
      "application/vnd.jupyter.widget-view+json": {
       "version_major": 2,
       "version_minor": 0,
       "model_id": "74f55f01f6cf458e97fca165f2f258b0"
      }
     },
     "metadata": {},
     "output_type": "display_data"
    },
    {
     "name": "stdout",
     "output_type": "stream",
     "text": [
      "Epoch 9: Train Loss = 1.9315, Train Accuracy = 86.34%\n"
     ]
    },
    {
     "data": {
      "text/plain": [
       "Validation Epoch 9:   0%|          | 0/125 [00:00<?, ?it/s]"
      ],
      "application/vnd.jupyter.widget-view+json": {
       "version_major": 2,
       "version_minor": 0,
       "model_id": "94660f96ad5a47c68fb8e4c52f35ef1e"
      }
     },
     "metadata": {},
     "output_type": "display_data"
    },
    {
     "name": "stdout",
     "output_type": "stream",
     "text": [
      "Epoch 9: Validation Loss = 0.8201, Validation Accuracy = 82.92%\n"
     ]
    },
    {
     "data": {
      "text/plain": [
       "Training Epoch 10:   0%|          | 0/3907 [00:00<?, ?it/s]"
      ],
      "application/vnd.jupyter.widget-view+json": {
       "version_major": 2,
       "version_minor": 0,
       "model_id": "27ee6d509c4841ff9752a58ad9809764"
      }
     },
     "metadata": {},
     "output_type": "display_data"
    },
    {
     "name": "stdout",
     "output_type": "stream",
     "text": [
      "Epoch 10: Train Loss = 1.8903, Train Accuracy = 87.42%\n"
     ]
    },
    {
     "data": {
      "text/plain": [
       "Validation Epoch 10:   0%|          | 0/125 [00:00<?, ?it/s]"
      ],
      "application/vnd.jupyter.widget-view+json": {
       "version_major": 2,
       "version_minor": 0,
       "model_id": "e39d14cb9a6a497db035595b080dd7a3"
      }
     },
     "metadata": {},
     "output_type": "display_data"
    },
    {
     "name": "stdout",
     "output_type": "stream",
     "text": [
      "Epoch 10: Validation Loss = 0.8040, Validation Accuracy = 83.41%\n",
      "Checking existing file for epoch count...\n"
     ]
    },
    {
     "data": {
      "text/plain": [
       "Training Epoch 11:   0%|          | 0/3907 [00:00<?, ?it/s]"
      ],
      "application/vnd.jupyter.widget-view+json": {
       "version_major": 2,
       "version_minor": 0,
       "model_id": "876479d6008742bebc850d83bad4bdd3"
      }
     },
     "metadata": {},
     "output_type": "display_data"
    },
    {
     "name": "stdout",
     "output_type": "stream",
     "text": [
      "Epoch 11: Train Loss = 1.8568, Train Accuracy = 88.34%\n"
     ]
    },
    {
     "data": {
      "text/plain": [
       "Validation Epoch 11:   0%|          | 0/125 [00:00<?, ?it/s]"
      ],
      "application/vnd.jupyter.widget-view+json": {
       "version_major": 2,
       "version_minor": 0,
       "model_id": "e2677d1956774733914e6dd18382feda"
      }
     },
     "metadata": {},
     "output_type": "display_data"
    },
    {
     "name": "stdout",
     "output_type": "stream",
     "text": [
      "Epoch 11: Validation Loss = 0.7916, Validation Accuracy = 83.82%\n"
     ]
    },
    {
     "data": {
      "text/plain": [
       "Training Epoch 12:   0%|          | 0/3907 [00:00<?, ?it/s]"
      ],
      "application/vnd.jupyter.widget-view+json": {
       "version_major": 2,
       "version_minor": 0,
       "model_id": "299b9f4c71974f2897ab9c462f7c43af"
      }
     },
     "metadata": {},
     "output_type": "display_data"
    },
    {
     "name": "stdout",
     "output_type": "stream",
     "text": [
      "Epoch 12: Train Loss = 1.8228, Train Accuracy = 89.20%\n"
     ]
    },
    {
     "data": {
      "text/plain": [
       "Validation Epoch 12:   0%|          | 0/125 [00:00<?, ?it/s]"
      ],
      "application/vnd.jupyter.widget-view+json": {
       "version_major": 2,
       "version_minor": 0,
       "model_id": "bbb03952c5914d78a7283dccd5cc0c8c"
      }
     },
     "metadata": {},
     "output_type": "display_data"
    },
    {
     "name": "stdout",
     "output_type": "stream",
     "text": [
      "Epoch 12: Validation Loss = 0.7981, Validation Accuracy = 83.92%\n",
      "Checking existing file for epoch count...\n"
     ]
    },
    {
     "data": {
      "text/plain": [
       "Training Epoch 13:   0%|          | 0/3907 [00:00<?, ?it/s]"
      ],
      "application/vnd.jupyter.widget-view+json": {
       "version_major": 2,
       "version_minor": 0,
       "model_id": "4a56a55579054688a7e80961fc7678ac"
      }
     },
     "metadata": {},
     "output_type": "display_data"
    },
    {
     "name": "stdout",
     "output_type": "stream",
     "text": [
      "Epoch 13: Train Loss = 1.7959, Train Accuracy = 89.95%\n"
     ]
    },
    {
     "data": {
      "text/plain": [
       "Validation Epoch 13:   0%|          | 0/125 [00:00<?, ?it/s]"
      ],
      "application/vnd.jupyter.widget-view+json": {
       "version_major": 2,
       "version_minor": 0,
       "model_id": "651b7ac8720a47658b3148b633455b5e"
      }
     },
     "metadata": {},
     "output_type": "display_data"
    },
    {
     "name": "stdout",
     "output_type": "stream",
     "text": [
      "Epoch 13: Validation Loss = 0.8106, Validation Accuracy = 84.07%\n"
     ]
    },
    {
     "data": {
      "text/plain": [
       "Training Epoch 14:   0%|          | 0/3907 [00:00<?, ?it/s]"
      ],
      "application/vnd.jupyter.widget-view+json": {
       "version_major": 2,
       "version_minor": 0,
       "model_id": "e6201e406f5a453896a15810fba453bc"
      }
     },
     "metadata": {},
     "output_type": "display_data"
    },
    {
     "name": "stdout",
     "output_type": "stream",
     "text": [
      "Epoch 14: Train Loss = 1.7716, Train Accuracy = 90.67%\n"
     ]
    },
    {
     "data": {
      "text/plain": [
       "Validation Epoch 14:   0%|          | 0/125 [00:00<?, ?it/s]"
      ],
      "application/vnd.jupyter.widget-view+json": {
       "version_major": 2,
       "version_minor": 0,
       "model_id": "8933dfe5832a4b63aed118fa0d401bde"
      }
     },
     "metadata": {},
     "output_type": "display_data"
    },
    {
     "name": "stdout",
     "output_type": "stream",
     "text": [
      "Epoch 14: Validation Loss = 0.8046, Validation Accuracy = 84.25%\n",
      "Checking existing file for epoch count...\n"
     ]
    },
    {
     "data": {
      "text/plain": [
       "Training Epoch 15:   0%|          | 0/3907 [00:00<?, ?it/s]"
      ],
      "application/vnd.jupyter.widget-view+json": {
       "version_major": 2,
       "version_minor": 0,
       "model_id": "acf4656ebd954be8bb2e31b1ceebb192"
      }
     },
     "metadata": {},
     "output_type": "display_data"
    },
    {
     "name": "stdout",
     "output_type": "stream",
     "text": [
      "Epoch 15: Train Loss = 1.7482, Train Accuracy = 91.29%\n"
     ]
    },
    {
     "data": {
      "text/plain": [
       "Validation Epoch 15:   0%|          | 0/125 [00:00<?, ?it/s]"
      ],
      "application/vnd.jupyter.widget-view+json": {
       "version_major": 2,
       "version_minor": 0,
       "model_id": "a014e0853b9449d5b2d19dbfbbe06996"
      }
     },
     "metadata": {},
     "output_type": "display_data"
    },
    {
     "name": "stdout",
     "output_type": "stream",
     "text": [
      "Epoch 15: Validation Loss = 0.8148, Validation Accuracy = 84.36%\n"
     ]
    },
    {
     "data": {
      "text/plain": [
       "Training Epoch 16:   0%|          | 0/3907 [00:00<?, ?it/s]"
      ],
      "application/vnd.jupyter.widget-view+json": {
       "version_major": 2,
       "version_minor": 0,
       "model_id": "8f6e32d358d341c39e14782a1d83ba71"
      }
     },
     "metadata": {},
     "output_type": "display_data"
    },
    {
     "name": "stdout",
     "output_type": "stream",
     "text": [
      "Epoch 16: Train Loss = 1.7257, Train Accuracy = 91.93%\n"
     ]
    },
    {
     "data": {
      "text/plain": [
       "Validation Epoch 16:   0%|          | 0/125 [00:00<?, ?it/s]"
      ],
      "application/vnd.jupyter.widget-view+json": {
       "version_major": 2,
       "version_minor": 0,
       "model_id": "7041cd9f263743f1b20858cbf2f1a09d"
      }
     },
     "metadata": {},
     "output_type": "display_data"
    },
    {
     "name": "stdout",
     "output_type": "stream",
     "text": [
      "Epoch 16: Validation Loss = 0.8288, Validation Accuracy = 84.33%\n",
      "Checking existing file for epoch count...\n"
     ]
    },
    {
     "data": {
      "text/plain": [
       "Training Epoch 17:   0%|          | 0/3907 [00:00<?, ?it/s]"
      ],
      "application/vnd.jupyter.widget-view+json": {
       "version_major": 2,
       "version_minor": 0,
       "model_id": "adb53cea13524aafa6772a77216f7c3a"
      }
     },
     "metadata": {},
     "output_type": "display_data"
    },
    {
     "name": "stdout",
     "output_type": "stream",
     "text": [
      "Epoch 17: Train Loss = 1.7082, Train Accuracy = 92.43%\n"
     ]
    },
    {
     "data": {
      "text/plain": [
       "Validation Epoch 17:   0%|          | 0/125 [00:00<?, ?it/s]"
      ],
      "application/vnd.jupyter.widget-view+json": {
       "version_major": 2,
       "version_minor": 0,
       "model_id": "e3c376aa2f8644ec9c379b805cce5e59"
      }
     },
     "metadata": {},
     "output_type": "display_data"
    },
    {
     "name": "stdout",
     "output_type": "stream",
     "text": [
      "Epoch 17: Validation Loss = 0.8337, Validation Accuracy = 84.44%\n"
     ]
    },
    {
     "data": {
      "text/plain": [
       "Training Epoch 18:   0%|          | 0/3907 [00:00<?, ?it/s]"
      ],
      "application/vnd.jupyter.widget-view+json": {
       "version_major": 2,
       "version_minor": 0,
       "model_id": "ba8f312c09714112b07c3fbe64b7b21d"
      }
     },
     "metadata": {},
     "output_type": "display_data"
    },
    {
     "name": "stdout",
     "output_type": "stream",
     "text": [
      "Epoch 18: Train Loss = 1.6885, Train Accuracy = 92.95%\n"
     ]
    },
    {
     "data": {
      "text/plain": [
       "Validation Epoch 18:   0%|          | 0/125 [00:00<?, ?it/s]"
      ],
      "application/vnd.jupyter.widget-view+json": {
       "version_major": 2,
       "version_minor": 0,
       "model_id": "ccc64182c294425696a87efd0326c0dc"
      }
     },
     "metadata": {},
     "output_type": "display_data"
    },
    {
     "name": "stdout",
     "output_type": "stream",
     "text": [
      "Epoch 18: Validation Loss = 0.8479, Validation Accuracy = 84.56%\n",
      "Checking existing file for epoch count...\n"
     ]
    },
    {
     "data": {
      "text/plain": [
       "Training Epoch 19:   0%|          | 0/3907 [00:00<?, ?it/s]"
      ],
      "application/vnd.jupyter.widget-view+json": {
       "version_major": 2,
       "version_minor": 0,
       "model_id": "80d2526162ef44dfbfdffab795ead912"
      }
     },
     "metadata": {},
     "output_type": "display_data"
    },
    {
     "name": "stdout",
     "output_type": "stream",
     "text": [
      "Epoch 19: Train Loss = 1.6735, Train Accuracy = 93.43%\n"
     ]
    },
    {
     "data": {
      "text/plain": [
       "Validation Epoch 19:   0%|          | 0/125 [00:00<?, ?it/s]"
      ],
      "application/vnd.jupyter.widget-view+json": {
       "version_major": 2,
       "version_minor": 0,
       "model_id": "77f9b6d5fd6c453a9812d9b552401e73"
      }
     },
     "metadata": {},
     "output_type": "display_data"
    },
    {
     "name": "stdout",
     "output_type": "stream",
     "text": [
      "Epoch 19: Validation Loss = 0.8448, Validation Accuracy = 84.50%\n"
     ]
    },
    {
     "data": {
      "text/plain": [
       "Training Epoch 20:   0%|          | 0/3907 [00:00<?, ?it/s]"
      ],
      "application/vnd.jupyter.widget-view+json": {
       "version_major": 2,
       "version_minor": 0,
       "model_id": "50f8b6b81893408e9d6eaeb8392de692"
      }
     },
     "metadata": {},
     "output_type": "display_data"
    },
    {
     "name": "stdout",
     "output_type": "stream",
     "text": [
      "Epoch 20: Train Loss = 1.6592, Train Accuracy = 93.85%\n"
     ]
    },
    {
     "data": {
      "text/plain": [
       "Validation Epoch 20:   0%|          | 0/125 [00:00<?, ?it/s]"
      ],
      "application/vnd.jupyter.widget-view+json": {
       "version_major": 2,
       "version_minor": 0,
       "model_id": "4ade007751ad45589635e2b43f8b7393"
      }
     },
     "metadata": {},
     "output_type": "display_data"
    },
    {
     "name": "stdout",
     "output_type": "stream",
     "text": [
      "Epoch 20: Validation Loss = 0.8544, Validation Accuracy = 84.58%\n",
      "Checking existing file for epoch count...\n"
     ]
    },
    {
     "data": {
      "text/plain": [
       "Training Epoch 21:   0%|          | 0/3907 [00:00<?, ?it/s]"
      ],
      "application/vnd.jupyter.widget-view+json": {
       "version_major": 2,
       "version_minor": 0,
       "model_id": "79e652d9e805479aa9f4e607063a67d9"
      }
     },
     "metadata": {},
     "output_type": "display_data"
    },
    {
     "name": "stdout",
     "output_type": "stream",
     "text": [
      "Epoch 21: Train Loss = 1.6452, Train Accuracy = 94.27%\n"
     ]
    },
    {
     "data": {
      "text/plain": [
       "Validation Epoch 21:   0%|          | 0/125 [00:00<?, ?it/s]"
      ],
      "application/vnd.jupyter.widget-view+json": {
       "version_major": 2,
       "version_minor": 0,
       "model_id": "5f4e283a941545b9a89e3a543edec914"
      }
     },
     "metadata": {},
     "output_type": "display_data"
    },
    {
     "name": "stdout",
     "output_type": "stream",
     "text": [
      "Epoch 21: Validation Loss = 0.8651, Validation Accuracy = 84.79%\n"
     ]
    },
    {
     "data": {
      "text/plain": [
       "Training Epoch 22:   0%|          | 0/3907 [00:00<?, ?it/s]"
      ],
      "application/vnd.jupyter.widget-view+json": {
       "version_major": 2,
       "version_minor": 0,
       "model_id": "cc68dc28a4f143adbc01ba69ed201042"
      }
     },
     "metadata": {},
     "output_type": "display_data"
    },
    {
     "name": "stdout",
     "output_type": "stream",
     "text": [
      "Epoch 22: Train Loss = 1.6334, Train Accuracy = 94.63%\n"
     ]
    },
    {
     "data": {
      "text/plain": [
       "Validation Epoch 22:   0%|          | 0/125 [00:00<?, ?it/s]"
      ],
      "application/vnd.jupyter.widget-view+json": {
       "version_major": 2,
       "version_minor": 0,
       "model_id": "943a2b2d0b834f5581e86f56cbe13dd5"
      }
     },
     "metadata": {},
     "output_type": "display_data"
    },
    {
     "name": "stdout",
     "output_type": "stream",
     "text": [
      "Epoch 22: Validation Loss = 0.8797, Validation Accuracy = 84.69%\n",
      "Checking existing file for epoch count...\n"
     ]
    },
    {
     "data": {
      "text/plain": [
       "Training Epoch 23:   0%|          | 0/3907 [00:00<?, ?it/s]"
      ],
      "application/vnd.jupyter.widget-view+json": {
       "version_major": 2,
       "version_minor": 0,
       "model_id": "83ec7f41167544de8ca08fbdbee833c8"
      }
     },
     "metadata": {},
     "output_type": "display_data"
    },
    {
     "name": "stdout",
     "output_type": "stream",
     "text": [
      "Epoch 23: Train Loss = 1.6216, Train Accuracy = 94.99%\n"
     ]
    },
    {
     "data": {
      "text/plain": [
       "Validation Epoch 23:   0%|          | 0/125 [00:00<?, ?it/s]"
      ],
      "application/vnd.jupyter.widget-view+json": {
       "version_major": 2,
       "version_minor": 0,
       "model_id": "e710867ce46d420e82cd40ec0062be83"
      }
     },
     "metadata": {},
     "output_type": "display_data"
    },
    {
     "name": "stdout",
     "output_type": "stream",
     "text": [
      "Epoch 23: Validation Loss = 0.8867, Validation Accuracy = 84.76%\n"
     ]
    },
    {
     "data": {
      "text/plain": [
       "Training Epoch 24:   0%|          | 0/3907 [00:00<?, ?it/s]"
      ],
      "application/vnd.jupyter.widget-view+json": {
       "version_major": 2,
       "version_minor": 0,
       "model_id": "b752eaca727e4a7d8735cf67cd1d773e"
      }
     },
     "metadata": {},
     "output_type": "display_data"
    },
    {
     "name": "stdout",
     "output_type": "stream",
     "text": [
      "Epoch 24: Train Loss = 1.6127, Train Accuracy = 95.28%\n"
     ]
    },
    {
     "data": {
      "text/plain": [
       "Validation Epoch 24:   0%|          | 0/125 [00:00<?, ?it/s]"
      ],
      "application/vnd.jupyter.widget-view+json": {
       "version_major": 2,
       "version_minor": 0,
       "model_id": "5b95e96fe12f47b2879c9564f1e0dcd3"
      }
     },
     "metadata": {},
     "output_type": "display_data"
    },
    {
     "name": "stdout",
     "output_type": "stream",
     "text": [
      "Epoch 24: Validation Loss = 0.8821, Validation Accuracy = 84.87%\n",
      "Checking existing file for epoch count...\n"
     ]
    },
    {
     "data": {
      "text/plain": [
       "Training Epoch 25:   0%|          | 0/3907 [00:00<?, ?it/s]"
      ],
      "application/vnd.jupyter.widget-view+json": {
       "version_major": 2,
       "version_minor": 0,
       "model_id": "f9152f7328d94ef799842646d70080c5"
      }
     },
     "metadata": {},
     "output_type": "display_data"
    },
    {
     "name": "stdout",
     "output_type": "stream",
     "text": [
      "Epoch 25: Train Loss = 1.6034, Train Accuracy = 95.59%\n"
     ]
    },
    {
     "data": {
      "text/plain": [
       "Validation Epoch 25:   0%|          | 0/125 [00:00<?, ?it/s]"
      ],
      "application/vnd.jupyter.widget-view+json": {
       "version_major": 2,
       "version_minor": 0,
       "model_id": "96e9bd3218e04155b0ddf91dd21b3e01"
      }
     },
     "metadata": {},
     "output_type": "display_data"
    },
    {
     "name": "stdout",
     "output_type": "stream",
     "text": [
      "Epoch 25: Validation Loss = 0.8929, Validation Accuracy = 84.81%\n"
     ]
    },
    {
     "data": {
      "text/plain": [
       "Training Epoch 26:   0%|          | 0/3907 [00:00<?, ?it/s]"
      ],
      "application/vnd.jupyter.widget-view+json": {
       "version_major": 2,
       "version_minor": 0,
       "model_id": "38e0f399b2e24f2b9d65464b1705425f"
      }
     },
     "metadata": {},
     "output_type": "display_data"
    },
    {
     "name": "stdout",
     "output_type": "stream",
     "text": [
      "Epoch 26: Train Loss = 1.5957, Train Accuracy = 95.83%\n"
     ]
    },
    {
     "data": {
      "text/plain": [
       "Validation Epoch 26:   0%|          | 0/125 [00:00<?, ?it/s]"
      ],
      "application/vnd.jupyter.widget-view+json": {
       "version_major": 2,
       "version_minor": 0,
       "model_id": "a315e679f67349f0a648665b87794400"
      }
     },
     "metadata": {},
     "output_type": "display_data"
    },
    {
     "name": "stdout",
     "output_type": "stream",
     "text": [
      "Epoch 26: Validation Loss = 0.9016, Validation Accuracy = 84.84%\n",
      "Checking existing file for epoch count...\n"
     ]
    },
    {
     "data": {
      "text/plain": [
       "Training Epoch 27:   0%|          | 0/3907 [00:00<?, ?it/s]"
      ],
      "application/vnd.jupyter.widget-view+json": {
       "version_major": 2,
       "version_minor": 0,
       "model_id": "4920c48873474e9586b764fe270a1952"
      }
     },
     "metadata": {},
     "output_type": "display_data"
    },
    {
     "name": "stdout",
     "output_type": "stream",
     "text": [
      "Epoch 27: Train Loss = 1.5877, Train Accuracy = 96.08%\n"
     ]
    },
    {
     "data": {
      "text/plain": [
       "Validation Epoch 27:   0%|          | 0/125 [00:00<?, ?it/s]"
      ],
      "application/vnd.jupyter.widget-view+json": {
       "version_major": 2,
       "version_minor": 0,
       "model_id": "1469a46763624f78a9c3f16805be3823"
      }
     },
     "metadata": {},
     "output_type": "display_data"
    },
    {
     "name": "stdout",
     "output_type": "stream",
     "text": [
      "Epoch 27: Validation Loss = 0.9078, Validation Accuracy = 84.99%\n"
     ]
    },
    {
     "data": {
      "text/plain": [
       "Training Epoch 28:   0%|          | 0/3907 [00:00<?, ?it/s]"
      ],
      "application/vnd.jupyter.widget-view+json": {
       "version_major": 2,
       "version_minor": 0,
       "model_id": "ab4392d566f74fbcb5fc14fe98d83ef1"
      }
     },
     "metadata": {},
     "output_type": "display_data"
    },
    {
     "name": "stdout",
     "output_type": "stream",
     "text": [
      "Epoch 28: Train Loss = 1.5818, Train Accuracy = 96.30%\n"
     ]
    },
    {
     "data": {
      "text/plain": [
       "Validation Epoch 28:   0%|          | 0/125 [00:00<?, ?it/s]"
      ],
      "application/vnd.jupyter.widget-view+json": {
       "version_major": 2,
       "version_minor": 0,
       "model_id": "fa5d4a83b134416cb5c8d0002c5b14d1"
      }
     },
     "metadata": {},
     "output_type": "display_data"
    },
    {
     "name": "stdout",
     "output_type": "stream",
     "text": [
      "Epoch 28: Validation Loss = 0.9254, Validation Accuracy = 84.92%\n",
      "Checking existing file for epoch count...\n"
     ]
    },
    {
     "data": {
      "text/plain": [
       "Training Epoch 29:   0%|          | 0/3907 [00:00<?, ?it/s]"
      ],
      "application/vnd.jupyter.widget-view+json": {
       "version_major": 2,
       "version_minor": 0,
       "model_id": "5f7e32e5bf3a4e73a4aa108cbf1b3781"
      }
     },
     "metadata": {},
     "output_type": "display_data"
    },
    {
     "name": "stdout",
     "output_type": "stream",
     "text": [
      "Epoch 29: Train Loss = 1.5753, Train Accuracy = 96.48%\n"
     ]
    },
    {
     "data": {
      "text/plain": [
       "Validation Epoch 29:   0%|          | 0/125 [00:00<?, ?it/s]"
      ],
      "application/vnd.jupyter.widget-view+json": {
       "version_major": 2,
       "version_minor": 0,
       "model_id": "f7da83db4405429fb4dfc97d4390ee89"
      }
     },
     "metadata": {},
     "output_type": "display_data"
    },
    {
     "name": "stdout",
     "output_type": "stream",
     "text": [
      "Epoch 29: Validation Loss = 0.9346, Validation Accuracy = 84.96%\n"
     ]
    },
    {
     "data": {
      "text/plain": [
       "Training Epoch 30:   0%|          | 0/3907 [00:00<?, ?it/s]"
      ],
      "application/vnd.jupyter.widget-view+json": {
       "version_major": 2,
       "version_minor": 0,
       "model_id": "7e888d3b999749cea29ed9525c12eebb"
      }
     },
     "metadata": {},
     "output_type": "display_data"
    },
    {
     "name": "stdout",
     "output_type": "stream",
     "text": [
      "Epoch 30: Train Loss = 1.5698, Train Accuracy = 96.67%\n"
     ]
    },
    {
     "data": {
      "text/plain": [
       "Validation Epoch 30:   0%|          | 0/125 [00:00<?, ?it/s]"
      ],
      "application/vnd.jupyter.widget-view+json": {
       "version_major": 2,
       "version_minor": 0,
       "model_id": "02c427baa8f54179862f938313f9a65b"
      }
     },
     "metadata": {},
     "output_type": "display_data"
    },
    {
     "name": "stdout",
     "output_type": "stream",
     "text": [
      "Epoch 30: Validation Loss = 0.9398, Validation Accuracy = 84.84%\n",
      "Checking existing file for epoch count...\n"
     ]
    },
    {
     "data": {
      "text/plain": [
       "Training Epoch 31:   0%|          | 0/3907 [00:00<?, ?it/s]"
      ],
      "application/vnd.jupyter.widget-view+json": {
       "version_major": 2,
       "version_minor": 0,
       "model_id": "80cd19b8bfdc43f9acd5ec100eb228a0"
      }
     },
     "metadata": {},
     "output_type": "display_data"
    },
    {
     "name": "stdout",
     "output_type": "stream",
     "text": [
      "Epoch 31: Train Loss = 1.5645, Train Accuracy = 96.86%\n"
     ]
    },
    {
     "data": {
      "text/plain": [
       "Validation Epoch 31:   0%|          | 0/125 [00:00<?, ?it/s]"
      ],
      "application/vnd.jupyter.widget-view+json": {
       "version_major": 2,
       "version_minor": 0,
       "model_id": "bda2d760ab86405aa81e8ae40dc93ccd"
      }
     },
     "metadata": {},
     "output_type": "display_data"
    },
    {
     "name": "stdout",
     "output_type": "stream",
     "text": [
      "Epoch 31: Validation Loss = 0.9441, Validation Accuracy = 85.03%\n"
     ]
    },
    {
     "data": {
      "text/plain": [
       "Training Epoch 32:   0%|          | 0/3907 [00:00<?, ?it/s]"
      ],
      "application/vnd.jupyter.widget-view+json": {
       "version_major": 2,
       "version_minor": 0,
       "model_id": "b716fad21fbd4d89a02bb5752c581335"
      }
     },
     "metadata": {},
     "output_type": "display_data"
    },
    {
     "name": "stdout",
     "output_type": "stream",
     "text": [
      "Epoch 32: Train Loss = 1.5599, Train Accuracy = 96.99%\n"
     ]
    },
    {
     "data": {
      "text/plain": [
       "Validation Epoch 32:   0%|          | 0/125 [00:00<?, ?it/s]"
      ],
      "application/vnd.jupyter.widget-view+json": {
       "version_major": 2,
       "version_minor": 0,
       "model_id": "5e5f4a2a5c4b4ae1a466b3ed8c16371b"
      }
     },
     "metadata": {},
     "output_type": "display_data"
    },
    {
     "name": "stdout",
     "output_type": "stream",
     "text": [
      "Epoch 32: Validation Loss = 0.9388, Validation Accuracy = 85.03%\n",
      "Checking existing file for epoch count...\n"
     ]
    },
    {
     "data": {
      "text/plain": [
       "Training Epoch 33:   0%|          | 0/3907 [00:00<?, ?it/s]"
      ],
      "application/vnd.jupyter.widget-view+json": {
       "version_major": 2,
       "version_minor": 0,
       "model_id": "d3e418f5a10140cc9cdeb068c1f7e00b"
      }
     },
     "metadata": {},
     "output_type": "display_data"
    },
    {
     "name": "stdout",
     "output_type": "stream",
     "text": [
      "Epoch 33: Train Loss = 1.5562, Train Accuracy = 97.09%\n"
     ]
    },
    {
     "data": {
      "text/plain": [
       "Validation Epoch 33:   0%|          | 0/125 [00:00<?, ?it/s]"
      ],
      "application/vnd.jupyter.widget-view+json": {
       "version_major": 2,
       "version_minor": 0,
       "model_id": "d2ce12b07138420c9e211185b058bebd"
      }
     },
     "metadata": {},
     "output_type": "display_data"
    },
    {
     "name": "stdout",
     "output_type": "stream",
     "text": [
      "Epoch 33: Validation Loss = 0.9516, Validation Accuracy = 84.94%\n"
     ]
    },
    {
     "data": {
      "text/plain": [
       "Training Epoch 34:   0%|          | 0/3907 [00:00<?, ?it/s]"
      ],
      "application/vnd.jupyter.widget-view+json": {
       "version_major": 2,
       "version_minor": 0,
       "model_id": "12dd4b52a3d5451d81422a158778efe2"
      }
     },
     "metadata": {},
     "output_type": "display_data"
    },
    {
     "name": "stdout",
     "output_type": "stream",
     "text": [
      "Epoch 34: Train Loss = 1.5513, Train Accuracy = 97.27%\n"
     ]
    },
    {
     "data": {
      "text/plain": [
       "Validation Epoch 34:   0%|          | 0/125 [00:00<?, ?it/s]"
      ],
      "application/vnd.jupyter.widget-view+json": {
       "version_major": 2,
       "version_minor": 0,
       "model_id": "47f26e4c497244e8bed6ea5d9e36465d"
      }
     },
     "metadata": {},
     "output_type": "display_data"
    },
    {
     "name": "stdout",
     "output_type": "stream",
     "text": [
      "Epoch 34: Validation Loss = 0.9607, Validation Accuracy = 84.95%\n",
      "Checking existing file for epoch count...\n"
     ]
    },
    {
     "data": {
      "text/plain": [
       "Training Epoch 35:   0%|          | 0/3907 [00:00<?, ?it/s]"
      ],
      "application/vnd.jupyter.widget-view+json": {
       "version_major": 2,
       "version_minor": 0,
       "model_id": "0e8813420e6841b3a95fe586f9dd766e"
      }
     },
     "metadata": {},
     "output_type": "display_data"
    },
    {
     "name": "stdout",
     "output_type": "stream",
     "text": [
      "Epoch 35: Train Loss = 1.5481, Train Accuracy = 97.35%\n"
     ]
    },
    {
     "data": {
      "text/plain": [
       "Validation Epoch 35:   0%|          | 0/125 [00:00<?, ?it/s]"
      ],
      "application/vnd.jupyter.widget-view+json": {
       "version_major": 2,
       "version_minor": 0,
       "model_id": "8d4e70723dd542afa553f5ec7dff0737"
      }
     },
     "metadata": {},
     "output_type": "display_data"
    },
    {
     "name": "stdout",
     "output_type": "stream",
     "text": [
      "Epoch 35: Validation Loss = 0.9642, Validation Accuracy = 85.19%\n"
     ]
    },
    {
     "data": {
      "text/plain": [
       "Training Epoch 36:   0%|          | 0/3907 [00:00<?, ?it/s]"
      ],
      "application/vnd.jupyter.widget-view+json": {
       "version_major": 2,
       "version_minor": 0,
       "model_id": "229ae3151c9a4cbca76353699a0f6c07"
      }
     },
     "metadata": {},
     "output_type": "display_data"
    },
    {
     "name": "stdout",
     "output_type": "stream",
     "text": [
      "Epoch 36: Train Loss = 1.5440, Train Accuracy = 97.49%\n"
     ]
    },
    {
     "data": {
      "text/plain": [
       "Validation Epoch 36:   0%|          | 0/125 [00:00<?, ?it/s]"
      ],
      "application/vnd.jupyter.widget-view+json": {
       "version_major": 2,
       "version_minor": 0,
       "model_id": "9834224753354334a4fa518814743c6d"
      }
     },
     "metadata": {},
     "output_type": "display_data"
    },
    {
     "name": "stdout",
     "output_type": "stream",
     "text": [
      "Epoch 36: Validation Loss = 0.9622, Validation Accuracy = 85.15%\n",
      "Checking existing file for epoch count...\n"
     ]
    },
    {
     "data": {
      "text/plain": [
       "Training Epoch 37:   0%|          | 0/3907 [00:00<?, ?it/s]"
      ],
      "application/vnd.jupyter.widget-view+json": {
       "version_major": 2,
       "version_minor": 0,
       "model_id": "307a44e72c3a4d9a9330213fb2ececf0"
      }
     },
     "metadata": {},
     "output_type": "display_data"
    },
    {
     "name": "stdout",
     "output_type": "stream",
     "text": [
      "Epoch 37: Train Loss = 1.5416, Train Accuracy = 97.55%\n"
     ]
    },
    {
     "data": {
      "text/plain": [
       "Validation Epoch 37:   0%|          | 0/125 [00:00<?, ?it/s]"
      ],
      "application/vnd.jupyter.widget-view+json": {
       "version_major": 2,
       "version_minor": 0,
       "model_id": "cc91568a2dd24c55abe2ab618eca6584"
      }
     },
     "metadata": {},
     "output_type": "display_data"
    },
    {
     "name": "stdout",
     "output_type": "stream",
     "text": [
      "Epoch 37: Validation Loss = 0.9656, Validation Accuracy = 85.24%\n"
     ]
    },
    {
     "data": {
      "text/plain": [
       "Training Epoch 38:   0%|          | 0/3907 [00:00<?, ?it/s]"
      ],
      "application/vnd.jupyter.widget-view+json": {
       "version_major": 2,
       "version_minor": 0,
       "model_id": "4cfb0cb49790437db78f748dd00b4ee5"
      }
     },
     "metadata": {},
     "output_type": "display_data"
    },
    {
     "name": "stdout",
     "output_type": "stream",
     "text": [
      "Epoch 38: Train Loss = 1.5387, Train Accuracy = 97.65%\n"
     ]
    },
    {
     "data": {
      "text/plain": [
       "Validation Epoch 38:   0%|          | 0/125 [00:00<?, ?it/s]"
      ],
      "application/vnd.jupyter.widget-view+json": {
       "version_major": 2,
       "version_minor": 0,
       "model_id": "12600c4a1ab6438d9f5fa069818cee7d"
      }
     },
     "metadata": {},
     "output_type": "display_data"
    },
    {
     "name": "stdout",
     "output_type": "stream",
     "text": [
      "Epoch 38: Validation Loss = 0.9611, Validation Accuracy = 85.14%\n",
      "Checking existing file for epoch count...\n"
     ]
    },
    {
     "data": {
      "text/plain": [
       "Training Epoch 39:   0%|          | 0/3907 [00:00<?, ?it/s]"
      ],
      "application/vnd.jupyter.widget-view+json": {
       "version_major": 2,
       "version_minor": 0,
       "model_id": "2d81dfc221eb42dba7b1d10775ecb43c"
      }
     },
     "metadata": {},
     "output_type": "display_data"
    },
    {
     "name": "stdout",
     "output_type": "stream",
     "text": [
      "Epoch 39: Train Loss = 1.5359, Train Accuracy = 97.73%\n"
     ]
    },
    {
     "data": {
      "text/plain": [
       "Validation Epoch 39:   0%|          | 0/125 [00:00<?, ?it/s]"
      ],
      "application/vnd.jupyter.widget-view+json": {
       "version_major": 2,
       "version_minor": 0,
       "model_id": "212709dae5f245d788f79d6c0237c133"
      }
     },
     "metadata": {},
     "output_type": "display_data"
    },
    {
     "name": "stdout",
     "output_type": "stream",
     "text": [
      "Epoch 39: Validation Loss = 0.9598, Validation Accuracy = 85.16%\n"
     ]
    },
    {
     "data": {
      "text/plain": [
       "Training Epoch 40:   0%|          | 0/3907 [00:00<?, ?it/s]"
      ],
      "application/vnd.jupyter.widget-view+json": {
       "version_major": 2,
       "version_minor": 0,
       "model_id": "b022fcb2c36c4493b7c742feb4c1249c"
      }
     },
     "metadata": {},
     "output_type": "display_data"
    },
    {
     "name": "stdout",
     "output_type": "stream",
     "text": [
      "Epoch 40: Train Loss = 1.5327, Train Accuracy = 97.83%\n"
     ]
    },
    {
     "data": {
      "text/plain": [
       "Validation Epoch 40:   0%|          | 0/125 [00:00<?, ?it/s]"
      ],
      "application/vnd.jupyter.widget-view+json": {
       "version_major": 2,
       "version_minor": 0,
       "model_id": "dd77a8a94b1a42759bc98900aa3507bb"
      }
     },
     "metadata": {},
     "output_type": "display_data"
    },
    {
     "name": "stdout",
     "output_type": "stream",
     "text": [
      "Epoch 40: Validation Loss = 0.9780, Validation Accuracy = 85.07%\n",
      "Checking existing file for epoch count...\n"
     ]
    },
    {
     "data": {
      "text/plain": [
       "Training Epoch 41:   0%|          | 0/3907 [00:00<?, ?it/s]"
      ],
      "application/vnd.jupyter.widget-view+json": {
       "version_major": 2,
       "version_minor": 0,
       "model_id": "f45221c417a9438d862943b9003f612a"
      }
     },
     "metadata": {},
     "output_type": "display_data"
    },
    {
     "name": "stdout",
     "output_type": "stream",
     "text": [
      "Epoch 41: Train Loss = 1.5308, Train Accuracy = 97.90%\n"
     ]
    },
    {
     "data": {
      "text/plain": [
       "Validation Epoch 41:   0%|          | 0/125 [00:00<?, ?it/s]"
      ],
      "application/vnd.jupyter.widget-view+json": {
       "version_major": 2,
       "version_minor": 0,
       "model_id": "0cd16c47712c4c91828d51872dc9253b"
      }
     },
     "metadata": {},
     "output_type": "display_data"
    },
    {
     "name": "stdout",
     "output_type": "stream",
     "text": [
      "Epoch 41: Validation Loss = 0.9788, Validation Accuracy = 85.24%\n"
     ]
    },
    {
     "data": {
      "text/plain": [
       "Training Epoch 42:   0%|          | 0/3907 [00:00<?, ?it/s]"
      ],
      "application/vnd.jupyter.widget-view+json": {
       "version_major": 2,
       "version_minor": 0,
       "model_id": "3e14e4efb51d4c6590d82a300176708f"
      }
     },
     "metadata": {},
     "output_type": "display_data"
    },
    {
     "name": "stdout",
     "output_type": "stream",
     "text": [
      "Epoch 42: Train Loss = 1.5280, Train Accuracy = 97.97%\n"
     ]
    },
    {
     "data": {
      "text/plain": [
       "Validation Epoch 42:   0%|          | 0/125 [00:00<?, ?it/s]"
      ],
      "application/vnd.jupyter.widget-view+json": {
       "version_major": 2,
       "version_minor": 0,
       "model_id": "4223d80cb2164ba6917fb3bfa86edd7a"
      }
     },
     "metadata": {},
     "output_type": "display_data"
    },
    {
     "name": "stdout",
     "output_type": "stream",
     "text": [
      "Epoch 42: Validation Loss = 0.9768, Validation Accuracy = 85.09%\n",
      "Checking existing file for epoch count...\n"
     ]
    },
    {
     "data": {
      "text/plain": [
       "Training Epoch 43:   0%|          | 0/3907 [00:00<?, ?it/s]"
      ],
      "application/vnd.jupyter.widget-view+json": {
       "version_major": 2,
       "version_minor": 0,
       "model_id": "8a01ff90d5f043f5aa7d17dea8af0e0f"
      }
     },
     "metadata": {},
     "output_type": "display_data"
    },
    {
     "name": "stdout",
     "output_type": "stream",
     "text": [
      "Epoch 43: Train Loss = 1.5269, Train Accuracy = 98.00%\n"
     ]
    },
    {
     "data": {
      "text/plain": [
       "Validation Epoch 43:   0%|          | 0/125 [00:00<?, ?it/s]"
      ],
      "application/vnd.jupyter.widget-view+json": {
       "version_major": 2,
       "version_minor": 0,
       "model_id": "ae119e138af648a8a87380441b7d268d"
      }
     },
     "metadata": {},
     "output_type": "display_data"
    },
    {
     "name": "stdout",
     "output_type": "stream",
     "text": [
      "Epoch 43: Validation Loss = 0.9808, Validation Accuracy = 85.16%\n"
     ]
    },
    {
     "data": {
      "text/plain": [
       "Training Epoch 44:   0%|          | 0/3907 [00:00<?, ?it/s]"
      ],
      "application/vnd.jupyter.widget-view+json": {
       "version_major": 2,
       "version_minor": 0,
       "model_id": "3c9db16b4a764899bbb54a17536d1728"
      }
     },
     "metadata": {},
     "output_type": "display_data"
    },
    {
     "name": "stdout",
     "output_type": "stream",
     "text": [
      "Epoch 44: Train Loss = 1.5235, Train Accuracy = 98.09%\n"
     ]
    },
    {
     "data": {
      "text/plain": [
       "Validation Epoch 44:   0%|          | 0/125 [00:00<?, ?it/s]"
      ],
      "application/vnd.jupyter.widget-view+json": {
       "version_major": 2,
       "version_minor": 0,
       "model_id": "b06fe377715b45179ce36fb5a59db59a"
      }
     },
     "metadata": {},
     "output_type": "display_data"
    },
    {
     "name": "stdout",
     "output_type": "stream",
     "text": [
      "Epoch 44: Validation Loss = 0.9831, Validation Accuracy = 85.05%\n",
      "Checking existing file for epoch count...\n"
     ]
    },
    {
     "data": {
      "text/plain": [
       "Training Epoch 45:   0%|          | 0/3907 [00:00<?, ?it/s]"
      ],
      "application/vnd.jupyter.widget-view+json": {
       "version_major": 2,
       "version_minor": 0,
       "model_id": "f25f1db8df28496eb711b8360d762715"
      }
     },
     "metadata": {},
     "output_type": "display_data"
    },
    {
     "name": "stdout",
     "output_type": "stream",
     "text": [
      "Epoch 45: Train Loss = 1.5213, Train Accuracy = 98.15%\n"
     ]
    },
    {
     "data": {
      "text/plain": [
       "Validation Epoch 45:   0%|          | 0/125 [00:00<?, ?it/s]"
      ],
      "application/vnd.jupyter.widget-view+json": {
       "version_major": 2,
       "version_minor": 0,
       "model_id": "c86fd953ee3342798ff86893c20ea772"
      }
     },
     "metadata": {},
     "output_type": "display_data"
    },
    {
     "name": "stdout",
     "output_type": "stream",
     "text": [
      "Epoch 45: Validation Loss = 0.9833, Validation Accuracy = 85.10%\n"
     ]
    },
    {
     "data": {
      "text/plain": [
       "Training Epoch 46:   0%|          | 0/3907 [00:00<?, ?it/s]"
      ],
      "application/vnd.jupyter.widget-view+json": {
       "version_major": 2,
       "version_minor": 0,
       "model_id": "d4e0b8da510849d5ba5d8f2ae9246617"
      }
     },
     "metadata": {},
     "output_type": "display_data"
    },
    {
     "name": "stdout",
     "output_type": "stream",
     "text": [
      "Epoch 46: Train Loss = 1.5199, Train Accuracy = 98.19%\n"
     ]
    },
    {
     "data": {
      "text/plain": [
       "Validation Epoch 46:   0%|          | 0/125 [00:00<?, ?it/s]"
      ],
      "application/vnd.jupyter.widget-view+json": {
       "version_major": 2,
       "version_minor": 0,
       "model_id": "136dc76eca604aad8a43c0b618cbb8fc"
      }
     },
     "metadata": {},
     "output_type": "display_data"
    },
    {
     "name": "stdout",
     "output_type": "stream",
     "text": [
      "Epoch 46: Validation Loss = 0.9935, Validation Accuracy = 85.19%\n",
      "Checking existing file for epoch count...\n"
     ]
    },
    {
     "data": {
      "text/plain": [
       "Training Epoch 47:   0%|          | 0/3907 [00:00<?, ?it/s]"
      ],
      "application/vnd.jupyter.widget-view+json": {
       "version_major": 2,
       "version_minor": 0,
       "model_id": "d0b82e2f3aac4e9ea93b55b7249f1aaa"
      }
     },
     "metadata": {},
     "output_type": "display_data"
    },
    {
     "name": "stdout",
     "output_type": "stream",
     "text": [
      "Epoch 47: Train Loss = 1.5174, Train Accuracy = 98.27%\n"
     ]
    },
    {
     "data": {
      "text/plain": [
       "Validation Epoch 47:   0%|          | 0/125 [00:00<?, ?it/s]"
      ],
      "application/vnd.jupyter.widget-view+json": {
       "version_major": 2,
       "version_minor": 0,
       "model_id": "85e619c842f64ff080d26709c1b6b727"
      }
     },
     "metadata": {},
     "output_type": "display_data"
    },
    {
     "name": "stdout",
     "output_type": "stream",
     "text": [
      "Epoch 47: Validation Loss = 0.9902, Validation Accuracy = 85.32%\n"
     ]
    },
    {
     "data": {
      "text/plain": [
       "Training Epoch 48:   0%|          | 0/3907 [00:00<?, ?it/s]"
      ],
      "application/vnd.jupyter.widget-view+json": {
       "version_major": 2,
       "version_minor": 0,
       "model_id": "ea941348459147baa5df4c7c7015e001"
      }
     },
     "metadata": {},
     "output_type": "display_data"
    },
    {
     "name": "stdout",
     "output_type": "stream",
     "text": [
      "Epoch 48: Train Loss = 1.5160, Train Accuracy = 98.29%\n"
     ]
    },
    {
     "data": {
      "text/plain": [
       "Validation Epoch 48:   0%|          | 0/125 [00:00<?, ?it/s]"
      ],
      "application/vnd.jupyter.widget-view+json": {
       "version_major": 2,
       "version_minor": 0,
       "model_id": "293b945f8d6346458b0eb75352a5a687"
      }
     },
     "metadata": {},
     "output_type": "display_data"
    },
    {
     "name": "stdout",
     "output_type": "stream",
     "text": [
      "Epoch 48: Validation Loss = 0.9926, Validation Accuracy = 85.32%\n",
      "Checking existing file for epoch count...\n"
     ]
    },
    {
     "data": {
      "text/plain": [
       "Training Epoch 49:   0%|          | 0/3907 [00:00<?, ?it/s]"
      ],
      "application/vnd.jupyter.widget-view+json": {
       "version_major": 2,
       "version_minor": 0,
       "model_id": "d8caf03c822e4693aedec5568efca0cb"
      }
     },
     "metadata": {},
     "output_type": "display_data"
    },
    {
     "name": "stdout",
     "output_type": "stream",
     "text": [
      "Epoch 49: Train Loss = 1.5150, Train Accuracy = 98.32%\n"
     ]
    },
    {
     "data": {
      "text/plain": [
       "Validation Epoch 49:   0%|          | 0/125 [00:00<?, ?it/s]"
      ],
      "application/vnd.jupyter.widget-view+json": {
       "version_major": 2,
       "version_minor": 0,
       "model_id": "c0d015f78a99404b9721a9c31c39e269"
      }
     },
     "metadata": {},
     "output_type": "display_data"
    },
    {
     "name": "stdout",
     "output_type": "stream",
     "text": [
      "Epoch 49: Validation Loss = 1.0024, Validation Accuracy = 85.26%\n"
     ]
    },
    {
     "data": {
      "text/plain": [
       "Training Epoch 50:   0%|          | 0/3907 [00:00<?, ?it/s]"
      ],
      "application/vnd.jupyter.widget-view+json": {
       "version_major": 2,
       "version_minor": 0,
       "model_id": "bf95b2df24b44f09aa9aec551570be2b"
      }
     },
     "metadata": {},
     "output_type": "display_data"
    },
    {
     "name": "stdout",
     "output_type": "stream",
     "text": [
      "Epoch 50: Train Loss = 1.5125, Train Accuracy = 98.40%\n"
     ]
    },
    {
     "data": {
      "text/plain": [
       "Validation Epoch 50:   0%|          | 0/125 [00:00<?, ?it/s]"
      ],
      "application/vnd.jupyter.widget-view+json": {
       "version_major": 2,
       "version_minor": 0,
       "model_id": "d2d25e14dbe84d629c8ed51f5727198d"
      }
     },
     "metadata": {},
     "output_type": "display_data"
    },
    {
     "name": "stdout",
     "output_type": "stream",
     "text": [
      "Epoch 50: Validation Loss = 0.9956, Validation Accuracy = 85.30%\n",
      "Checking existing file for epoch count...\n"
     ]
    },
    {
     "data": {
      "text/plain": [
       "Training Epoch 51:   0%|          | 0/3907 [00:00<?, ?it/s]"
      ],
      "application/vnd.jupyter.widget-view+json": {
       "version_major": 2,
       "version_minor": 0,
       "model_id": "ca67b039dc1e4b9ca2aaec17ca3ab361"
      }
     },
     "metadata": {},
     "output_type": "display_data"
    },
    {
     "name": "stdout",
     "output_type": "stream",
     "text": [
      "Epoch 51: Train Loss = 1.5119, Train Accuracy = 98.42%\n"
     ]
    },
    {
     "data": {
      "text/plain": [
       "Validation Epoch 51:   0%|          | 0/125 [00:00<?, ?it/s]"
      ],
      "application/vnd.jupyter.widget-view+json": {
       "version_major": 2,
       "version_minor": 0,
       "model_id": "a64397ec609c416fbe55d0b313dc5efc"
      }
     },
     "metadata": {},
     "output_type": "display_data"
    },
    {
     "name": "stdout",
     "output_type": "stream",
     "text": [
      "Epoch 51: Validation Loss = 1.0081, Validation Accuracy = 85.22%\n"
     ]
    },
    {
     "data": {
      "text/plain": [
       "Training Epoch 52:   0%|          | 0/3907 [00:00<?, ?it/s]"
      ],
      "application/vnd.jupyter.widget-view+json": {
       "version_major": 2,
       "version_minor": 0,
       "model_id": "487f439296c24f3798de6397a21b8cf8"
      }
     },
     "metadata": {},
     "output_type": "display_data"
    },
    {
     "name": "stdout",
     "output_type": "stream",
     "text": [
      "Epoch 52: Train Loss = 1.5100, Train Accuracy = 98.47%\n"
     ]
    },
    {
     "data": {
      "text/plain": [
       "Validation Epoch 52:   0%|          | 0/125 [00:00<?, ?it/s]"
      ],
      "application/vnd.jupyter.widget-view+json": {
       "version_major": 2,
       "version_minor": 0,
       "model_id": "5386acbc18a544a7ac87edb5765314d8"
      }
     },
     "metadata": {},
     "output_type": "display_data"
    },
    {
     "name": "stdout",
     "output_type": "stream",
     "text": [
      "Epoch 52: Validation Loss = 1.0019, Validation Accuracy = 85.27%\n",
      "Checking existing file for epoch count...\n"
     ]
    },
    {
     "data": {
      "text/plain": [
       "Training Epoch 53:   0%|          | 0/3907 [00:00<?, ?it/s]"
      ],
      "application/vnd.jupyter.widget-view+json": {
       "version_major": 2,
       "version_minor": 0,
       "model_id": "5cbac9c4f7414c9e9b5430c1c8d990eb"
      }
     },
     "metadata": {},
     "output_type": "display_data"
    },
    {
     "name": "stdout",
     "output_type": "stream",
     "text": [
      "Epoch 53: Train Loss = 1.5089, Train Accuracy = 98.50%\n"
     ]
    },
    {
     "data": {
      "text/plain": [
       "Validation Epoch 53:   0%|          | 0/125 [00:00<?, ?it/s]"
      ],
      "application/vnd.jupyter.widget-view+json": {
       "version_major": 2,
       "version_minor": 0,
       "model_id": "7821de363f6e4c7da0d01d004258240a"
      }
     },
     "metadata": {},
     "output_type": "display_data"
    },
    {
     "name": "stdout",
     "output_type": "stream",
     "text": [
      "Epoch 53: Validation Loss = 1.0049, Validation Accuracy = 85.38%\n"
     ]
    },
    {
     "data": {
      "text/plain": [
       "Training Epoch 54:   0%|          | 0/3907 [00:00<?, ?it/s]"
      ],
      "application/vnd.jupyter.widget-view+json": {
       "version_major": 2,
       "version_minor": 0,
       "model_id": "fee61a3825d242cc86f7efc93e345ca8"
      }
     },
     "metadata": {},
     "output_type": "display_data"
    },
    {
     "name": "stdout",
     "output_type": "stream",
     "text": [
      "Epoch 54: Train Loss = 1.5072, Train Accuracy = 98.53%\n"
     ]
    },
    {
     "data": {
      "text/plain": [
       "Validation Epoch 54:   0%|          | 0/125 [00:00<?, ?it/s]"
      ],
      "application/vnd.jupyter.widget-view+json": {
       "version_major": 2,
       "version_minor": 0,
       "model_id": "3ab31afeffe043658aaed507d0975cc8"
      }
     },
     "metadata": {},
     "output_type": "display_data"
    },
    {
     "name": "stdout",
     "output_type": "stream",
     "text": [
      "Epoch 54: Validation Loss = 1.0119, Validation Accuracy = 85.39%\n",
      "Checking existing file for epoch count...\n"
     ]
    },
    {
     "data": {
      "text/plain": [
       "Training Epoch 55:   0%|          | 0/3907 [00:00<?, ?it/s]"
      ],
      "application/vnd.jupyter.widget-view+json": {
       "version_major": 2,
       "version_minor": 0,
       "model_id": "9527149e7b6f4daca2ab986dc5c759e8"
      }
     },
     "metadata": {},
     "output_type": "display_data"
    },
    {
     "name": "stdout",
     "output_type": "stream",
     "text": [
      "Epoch 55: Train Loss = 1.5063, Train Accuracy = 98.56%\n"
     ]
    },
    {
     "data": {
      "text/plain": [
       "Validation Epoch 55:   0%|          | 0/125 [00:00<?, ?it/s]"
      ],
      "application/vnd.jupyter.widget-view+json": {
       "version_major": 2,
       "version_minor": 0,
       "model_id": "983bd4357e1148cb97d5d7fb6c6bc484"
      }
     },
     "metadata": {},
     "output_type": "display_data"
    },
    {
     "name": "stdout",
     "output_type": "stream",
     "text": [
      "Epoch 55: Validation Loss = 1.0090, Validation Accuracy = 85.24%\n"
     ]
    },
    {
     "data": {
      "text/plain": [
       "Training Epoch 56:   0%|          | 0/3907 [00:00<?, ?it/s]"
      ],
      "application/vnd.jupyter.widget-view+json": {
       "version_major": 2,
       "version_minor": 0,
       "model_id": "12f62537dd2e4eec84e578dcebc840b1"
      }
     },
     "metadata": {},
     "output_type": "display_data"
    },
    {
     "name": "stdout",
     "output_type": "stream",
     "text": [
      "Epoch 56: Train Loss = 1.5058, Train Accuracy = 98.58%\n"
     ]
    },
    {
     "data": {
      "text/plain": [
       "Validation Epoch 56:   0%|          | 0/125 [00:00<?, ?it/s]"
      ],
      "application/vnd.jupyter.widget-view+json": {
       "version_major": 2,
       "version_minor": 0,
       "model_id": "3ce0550fa8a24278b1218da7f8f87172"
      }
     },
     "metadata": {},
     "output_type": "display_data"
    },
    {
     "name": "stdout",
     "output_type": "stream",
     "text": [
      "Epoch 56: Validation Loss = 1.0084, Validation Accuracy = 85.19%\n",
      "Checking existing file for epoch count...\n"
     ]
    },
    {
     "data": {
      "text/plain": [
       "Training Epoch 57:   0%|          | 0/3907 [00:00<?, ?it/s]"
      ],
      "application/vnd.jupyter.widget-view+json": {
       "version_major": 2,
       "version_minor": 0,
       "model_id": "59e7615e481440f0a5ce0978446436b7"
      }
     },
     "metadata": {},
     "output_type": "display_data"
    },
    {
     "name": "stdout",
     "output_type": "stream",
     "text": [
      "Epoch 57: Train Loss = 1.5038, Train Accuracy = 98.62%\n"
     ]
    },
    {
     "data": {
      "text/plain": [
       "Validation Epoch 57:   0%|          | 0/125 [00:00<?, ?it/s]"
      ],
      "application/vnd.jupyter.widget-view+json": {
       "version_major": 2,
       "version_minor": 0,
       "model_id": "5f1ceba8c0e145969ba825c2ef739ac2"
      }
     },
     "metadata": {},
     "output_type": "display_data"
    },
    {
     "name": "stdout",
     "output_type": "stream",
     "text": [
      "Epoch 57: Validation Loss = 1.0119, Validation Accuracy = 85.35%\n"
     ]
    },
    {
     "data": {
      "text/plain": [
       "Training Epoch 58:   0%|          | 0/3907 [00:00<?, ?it/s]"
      ],
      "application/vnd.jupyter.widget-view+json": {
       "version_major": 2,
       "version_minor": 0,
       "model_id": "25f2c778cc5947acafbd619046a8fb39"
      }
     },
     "metadata": {},
     "output_type": "display_data"
    },
    {
     "name": "stdout",
     "output_type": "stream",
     "text": [
      "Epoch 58: Train Loss = 1.5029, Train Accuracy = 98.64%\n"
     ]
    },
    {
     "data": {
      "text/plain": [
       "Validation Epoch 58:   0%|          | 0/125 [00:00<?, ?it/s]"
      ],
      "application/vnd.jupyter.widget-view+json": {
       "version_major": 2,
       "version_minor": 0,
       "model_id": "6e98b7718b2440c8a3a22bf4fddab4f9"
      }
     },
     "metadata": {},
     "output_type": "display_data"
    },
    {
     "name": "stdout",
     "output_type": "stream",
     "text": [
      "Epoch 58: Validation Loss = 1.0103, Validation Accuracy = 85.33%\n",
      "Checking existing file for epoch count...\n"
     ]
    },
    {
     "data": {
      "text/plain": [
       "Training Epoch 59:   0%|          | 0/3907 [00:00<?, ?it/s]"
      ],
      "application/vnd.jupyter.widget-view+json": {
       "version_major": 2,
       "version_minor": 0,
       "model_id": "5ae0e606c8ad4e95bc3106a3f4b5329a"
      }
     },
     "metadata": {},
     "output_type": "display_data"
    },
    {
     "name": "stdout",
     "output_type": "stream",
     "text": [
      "Epoch 59: Train Loss = 1.5018, Train Accuracy = 98.68%\n"
     ]
    },
    {
     "data": {
      "text/plain": [
       "Validation Epoch 59:   0%|          | 0/125 [00:00<?, ?it/s]"
      ],
      "application/vnd.jupyter.widget-view+json": {
       "version_major": 2,
       "version_minor": 0,
       "model_id": "baa9b74ff42b45958a293b367b8e99d0"
      }
     },
     "metadata": {},
     "output_type": "display_data"
    },
    {
     "name": "stdout",
     "output_type": "stream",
     "text": [
      "Epoch 59: Validation Loss = 1.0144, Validation Accuracy = 85.44%\n"
     ]
    },
    {
     "data": {
      "text/plain": [
       "Training Epoch 60:   0%|          | 0/3907 [00:00<?, ?it/s]"
      ],
      "application/vnd.jupyter.widget-view+json": {
       "version_major": 2,
       "version_minor": 0,
       "model_id": "6c5212b3e9ac448bac5e590a24f8ee98"
      }
     },
     "metadata": {},
     "output_type": "display_data"
    },
    {
     "name": "stdout",
     "output_type": "stream",
     "text": [
      "Epoch 60: Train Loss = 1.5007, Train Accuracy = 98.70%\n"
     ]
    },
    {
     "data": {
      "text/plain": [
       "Validation Epoch 60:   0%|          | 0/125 [00:00<?, ?it/s]"
      ],
      "application/vnd.jupyter.widget-view+json": {
       "version_major": 2,
       "version_minor": 0,
       "model_id": "6a7ce269ea2c46a2ba3641352069f219"
      }
     },
     "metadata": {},
     "output_type": "display_data"
    },
    {
     "name": "stdout",
     "output_type": "stream",
     "text": [
      "Epoch 60: Validation Loss = 1.0072, Validation Accuracy = 85.47%\n",
      "Checking existing file for epoch count...\n"
     ]
    },
    {
     "data": {
      "text/plain": [
       "Training Epoch 61:   0%|          | 0/3907 [00:00<?, ?it/s]"
      ],
      "application/vnd.jupyter.widget-view+json": {
       "version_major": 2,
       "version_minor": 0,
       "model_id": "d77f9cb4489b4b94b27263697f31d12f"
      }
     },
     "metadata": {},
     "output_type": "display_data"
    },
    {
     "name": "stdout",
     "output_type": "stream",
     "text": [
      "Epoch 61: Train Loss = 1.4998, Train Accuracy = 98.72%\n"
     ]
    },
    {
     "data": {
      "text/plain": [
       "Validation Epoch 61:   0%|          | 0/125 [00:00<?, ?it/s]"
      ],
      "application/vnd.jupyter.widget-view+json": {
       "version_major": 2,
       "version_minor": 0,
       "model_id": "78ee1c188f2c488dbbeff877387641d4"
      }
     },
     "metadata": {},
     "output_type": "display_data"
    },
    {
     "name": "stdout",
     "output_type": "stream",
     "text": [
      "Epoch 61: Validation Loss = 1.0102, Validation Accuracy = 85.42%\n"
     ]
    },
    {
     "data": {
      "text/plain": [
       "Training Epoch 62:   0%|          | 0/3907 [00:00<?, ?it/s]"
      ],
      "application/vnd.jupyter.widget-view+json": {
       "version_major": 2,
       "version_minor": 0,
       "model_id": "7f2a058c77a1428ebb0aea22e087b899"
      }
     },
     "metadata": {},
     "output_type": "display_data"
    },
    {
     "name": "stdout",
     "output_type": "stream",
     "text": [
      "Epoch 62: Train Loss = 1.4987, Train Accuracy = 98.74%\n"
     ]
    },
    {
     "data": {
      "text/plain": [
       "Validation Epoch 62:   0%|          | 0/125 [00:00<?, ?it/s]"
      ],
      "application/vnd.jupyter.widget-view+json": {
       "version_major": 2,
       "version_minor": 0,
       "model_id": "156bf472de1842c58b2ec8251edb12ca"
      }
     },
     "metadata": {},
     "output_type": "display_data"
    },
    {
     "name": "stdout",
     "output_type": "stream",
     "text": [
      "Epoch 62: Validation Loss = 1.0103, Validation Accuracy = 85.46%\n",
      "Checking existing file for epoch count...\n"
     ]
    },
    {
     "data": {
      "text/plain": [
       "Training Epoch 63:   0%|          | 0/3907 [00:00<?, ?it/s]"
      ],
      "application/vnd.jupyter.widget-view+json": {
       "version_major": 2,
       "version_minor": 0,
       "model_id": "c54c060fc28d410384772b04c697a57e"
      }
     },
     "metadata": {},
     "output_type": "display_data"
    },
    {
     "name": "stdout",
     "output_type": "stream",
     "text": [
      "Epoch 63: Train Loss = 1.4978, Train Accuracy = 98.78%\n"
     ]
    },
    {
     "data": {
      "text/plain": [
       "Validation Epoch 63:   0%|          | 0/125 [00:00<?, ?it/s]"
      ],
      "application/vnd.jupyter.widget-view+json": {
       "version_major": 2,
       "version_minor": 0,
       "model_id": "8744ef9ec24848a1a7f7fabaeeb1556d"
      }
     },
     "metadata": {},
     "output_type": "display_data"
    },
    {
     "name": "stdout",
     "output_type": "stream",
     "text": [
      "Epoch 63: Validation Loss = 1.0221, Validation Accuracy = 85.35%\n"
     ]
    },
    {
     "data": {
      "text/plain": [
       "Training Epoch 64:   0%|          | 0/3907 [00:00<?, ?it/s]"
      ],
      "application/vnd.jupyter.widget-view+json": {
       "version_major": 2,
       "version_minor": 0,
       "model_id": "00e0fc74aef34743852385fb2f086976"
      }
     },
     "metadata": {},
     "output_type": "display_data"
    },
    {
     "name": "stdout",
     "output_type": "stream",
     "text": [
      "Epoch 64: Train Loss = 1.4970, Train Accuracy = 98.79%\n"
     ]
    },
    {
     "data": {
      "text/plain": [
       "Validation Epoch 64:   0%|          | 0/125 [00:00<?, ?it/s]"
      ],
      "application/vnd.jupyter.widget-view+json": {
       "version_major": 2,
       "version_minor": 0,
       "model_id": "8522dbd5aa2f414a8c89476e356329a9"
      }
     },
     "metadata": {},
     "output_type": "display_data"
    },
    {
     "name": "stdout",
     "output_type": "stream",
     "text": [
      "Epoch 64: Validation Loss = 1.0306, Validation Accuracy = 85.30%\n",
      "Checking existing file for epoch count...\n"
     ]
    },
    {
     "data": {
      "text/plain": [
       "Training Epoch 65:   0%|          | 0/3907 [00:00<?, ?it/s]"
      ],
      "application/vnd.jupyter.widget-view+json": {
       "version_major": 2,
       "version_minor": 0,
       "model_id": "8e1329953a5d4e78a0ed6f603366f985"
      }
     },
     "metadata": {},
     "output_type": "display_data"
    },
    {
     "name": "stdout",
     "output_type": "stream",
     "text": [
      "Epoch 65: Train Loss = 1.4960, Train Accuracy = 98.80%\n"
     ]
    },
    {
     "data": {
      "text/plain": [
       "Validation Epoch 65:   0%|          | 0/125 [00:00<?, ?it/s]"
      ],
      "application/vnd.jupyter.widget-view+json": {
       "version_major": 2,
       "version_minor": 0,
       "model_id": "f9d969e53a8848e89c6b8c25afa8db5f"
      }
     },
     "metadata": {},
     "output_type": "display_data"
    },
    {
     "name": "stdout",
     "output_type": "stream",
     "text": [
      "Epoch 65: Validation Loss = 1.0286, Validation Accuracy = 85.25%\n"
     ]
    },
    {
     "data": {
      "text/plain": [
       "Training Epoch 66:   0%|          | 0/3907 [00:00<?, ?it/s]"
      ],
      "application/vnd.jupyter.widget-view+json": {
       "version_major": 2,
       "version_minor": 0,
       "model_id": "2f7313dcdf8a4106be16c9a7c6925b90"
      }
     },
     "metadata": {},
     "output_type": "display_data"
    },
    {
     "name": "stdout",
     "output_type": "stream",
     "text": [
      "Epoch 66: Train Loss = 1.4949, Train Accuracy = 98.84%\n"
     ]
    },
    {
     "data": {
      "text/plain": [
       "Validation Epoch 66:   0%|          | 0/125 [00:00<?, ?it/s]"
      ],
      "application/vnd.jupyter.widget-view+json": {
       "version_major": 2,
       "version_minor": 0,
       "model_id": "b1d56807c6b64c4abd512ac01cec4ca4"
      }
     },
     "metadata": {},
     "output_type": "display_data"
    },
    {
     "name": "stdout",
     "output_type": "stream",
     "text": [
      "Epoch 66: Validation Loss = 1.0239, Validation Accuracy = 85.46%\n",
      "Checking existing file for epoch count...\n"
     ]
    },
    {
     "data": {
      "text/plain": [
       "Training Epoch 67:   0%|          | 0/3907 [00:00<?, ?it/s]"
      ],
      "application/vnd.jupyter.widget-view+json": {
       "version_major": 2,
       "version_minor": 0,
       "model_id": "ac1341c47d424b00a560a50148ec1e47"
      }
     },
     "metadata": {},
     "output_type": "display_data"
    },
    {
     "name": "stdout",
     "output_type": "stream",
     "text": [
      "Epoch 67: Train Loss = 1.4944, Train Accuracy = 98.85%\n"
     ]
    },
    {
     "data": {
      "text/plain": [
       "Validation Epoch 67:   0%|          | 0/125 [00:00<?, ?it/s]"
      ],
      "application/vnd.jupyter.widget-view+json": {
       "version_major": 2,
       "version_minor": 0,
       "model_id": "c906f570bec6454ea4c11cbde2f9a3b4"
      }
     },
     "metadata": {},
     "output_type": "display_data"
    },
    {
     "name": "stdout",
     "output_type": "stream",
     "text": [
      "Epoch 67: Validation Loss = 1.0252, Validation Accuracy = 85.44%\n"
     ]
    },
    {
     "data": {
      "text/plain": [
       "Training Epoch 68:   0%|          | 0/3907 [00:00<?, ?it/s]"
      ],
      "application/vnd.jupyter.widget-view+json": {
       "version_major": 2,
       "version_minor": 0,
       "model_id": "784b0c202245436ab060062bb4c3b915"
      }
     },
     "metadata": {},
     "output_type": "display_data"
    },
    {
     "name": "stdout",
     "output_type": "stream",
     "text": [
      "Epoch 68: Train Loss = 1.4932, Train Accuracy = 98.88%\n"
     ]
    },
    {
     "data": {
      "text/plain": [
       "Validation Epoch 68:   0%|          | 0/125 [00:00<?, ?it/s]"
      ],
      "application/vnd.jupyter.widget-view+json": {
       "version_major": 2,
       "version_minor": 0,
       "model_id": "838f6e4ddd3842deb257c1c7dd2173c0"
      }
     },
     "metadata": {},
     "output_type": "display_data"
    },
    {
     "name": "stdout",
     "output_type": "stream",
     "text": [
      "Epoch 68: Validation Loss = 1.0341, Validation Accuracy = 85.37%\n",
      "Checking existing file for epoch count...\n"
     ]
    },
    {
     "data": {
      "text/plain": [
       "Training Epoch 69:   0%|          | 0/3907 [00:00<?, ?it/s]"
      ],
      "application/vnd.jupyter.widget-view+json": {
       "version_major": 2,
       "version_minor": 0,
       "model_id": "1e017ecaaa794bedbb6e0e15f704a453"
      }
     },
     "metadata": {},
     "output_type": "display_data"
    },
    {
     "name": "stdout",
     "output_type": "stream",
     "text": [
      "Epoch 69: Train Loss = 1.4928, Train Accuracy = 98.88%\n"
     ]
    },
    {
     "data": {
      "text/plain": [
       "Validation Epoch 69:   0%|          | 0/125 [00:00<?, ?it/s]"
      ],
      "application/vnd.jupyter.widget-view+json": {
       "version_major": 2,
       "version_minor": 0,
       "model_id": "48e0b4c92884431d88633af7dc340518"
      }
     },
     "metadata": {},
     "output_type": "display_data"
    },
    {
     "name": "stdout",
     "output_type": "stream",
     "text": [
      "Epoch 69: Validation Loss = 1.0297, Validation Accuracy = 85.29%\n"
     ]
    },
    {
     "data": {
      "text/plain": [
       "Training Epoch 70:   0%|          | 0/3907 [00:00<?, ?it/s]"
      ],
      "application/vnd.jupyter.widget-view+json": {
       "version_major": 2,
       "version_minor": 0,
       "model_id": "3b02169f6a2446df85342ccaacdc5723"
      }
     },
     "metadata": {},
     "output_type": "display_data"
    },
    {
     "name": "stdout",
     "output_type": "stream",
     "text": [
      "Epoch 70: Train Loss = 1.4919, Train Accuracy = 98.92%\n"
     ]
    },
    {
     "data": {
      "text/plain": [
       "Validation Epoch 70:   0%|          | 0/125 [00:00<?, ?it/s]"
      ],
      "application/vnd.jupyter.widget-view+json": {
       "version_major": 2,
       "version_minor": 0,
       "model_id": "391071f0d80149efbd274f1a7353bf77"
      }
     },
     "metadata": {},
     "output_type": "display_data"
    },
    {
     "name": "stdout",
     "output_type": "stream",
     "text": [
      "Epoch 70: Validation Loss = 1.0316, Validation Accuracy = 85.54%\n",
      "Checking existing file for epoch count...\n"
     ]
    },
    {
     "data": {
      "text/plain": [
       "Training Epoch 71:   0%|          | 0/3907 [00:00<?, ?it/s]"
      ],
      "application/vnd.jupyter.widget-view+json": {
       "version_major": 2,
       "version_minor": 0,
       "model_id": "c343ac830e3042a9a41e98374e7ca243"
      }
     },
     "metadata": {},
     "output_type": "display_data"
    },
    {
     "name": "stdout",
     "output_type": "stream",
     "text": [
      "Epoch 71: Train Loss = 1.4911, Train Accuracy = 98.93%\n"
     ]
    },
    {
     "data": {
      "text/plain": [
       "Validation Epoch 71:   0%|          | 0/125 [00:00<?, ?it/s]"
      ],
      "application/vnd.jupyter.widget-view+json": {
       "version_major": 2,
       "version_minor": 0,
       "model_id": "bb23dbade2e144cfb9aa82ce49216c4b"
      }
     },
     "metadata": {},
     "output_type": "display_data"
    },
    {
     "name": "stdout",
     "output_type": "stream",
     "text": [
      "Epoch 71: Validation Loss = 1.0337, Validation Accuracy = 85.36%\n"
     ]
    },
    {
     "data": {
      "text/plain": [
       "Training Epoch 72:   0%|          | 0/3907 [00:00<?, ?it/s]"
      ],
      "application/vnd.jupyter.widget-view+json": {
       "version_major": 2,
       "version_minor": 0,
       "model_id": "34e3b044cda148d49828a776384886b8"
      }
     },
     "metadata": {},
     "output_type": "display_data"
    },
    {
     "name": "stdout",
     "output_type": "stream",
     "text": [
      "Epoch 72: Train Loss = 1.4903, Train Accuracy = 98.95%\n"
     ]
    },
    {
     "data": {
      "text/plain": [
       "Validation Epoch 72:   0%|          | 0/125 [00:00<?, ?it/s]"
      ],
      "application/vnd.jupyter.widget-view+json": {
       "version_major": 2,
       "version_minor": 0,
       "model_id": "cd7dc63bd53646b090af7726ab6c8f7b"
      }
     },
     "metadata": {},
     "output_type": "display_data"
    },
    {
     "name": "stdout",
     "output_type": "stream",
     "text": [
      "Epoch 72: Validation Loss = 1.0420, Validation Accuracy = 85.28%\n",
      "Checking existing file for epoch count...\n"
     ]
    },
    {
     "data": {
      "text/plain": [
       "Training Epoch 73:   0%|          | 0/3907 [00:00<?, ?it/s]"
      ],
      "application/vnd.jupyter.widget-view+json": {
       "version_major": 2,
       "version_minor": 0,
       "model_id": "ed2402403f0f4d8bbeae97a1dcdca83a"
      }
     },
     "metadata": {},
     "output_type": "display_data"
    },
    {
     "name": "stdout",
     "output_type": "stream",
     "text": [
      "Epoch 73: Train Loss = 1.4899, Train Accuracy = 98.95%\n"
     ]
    },
    {
     "data": {
      "text/plain": [
       "Validation Epoch 73:   0%|          | 0/125 [00:00<?, ?it/s]"
      ],
      "application/vnd.jupyter.widget-view+json": {
       "version_major": 2,
       "version_minor": 0,
       "model_id": "b8bcaddb414b4e6986aca4eaa217f4c4"
      }
     },
     "metadata": {},
     "output_type": "display_data"
    },
    {
     "name": "stdout",
     "output_type": "stream",
     "text": [
      "Epoch 73: Validation Loss = 1.0349, Validation Accuracy = 85.38%\n"
     ]
    },
    {
     "data": {
      "text/plain": [
       "Training Epoch 74:   0%|          | 0/3907 [00:00<?, ?it/s]"
      ],
      "application/vnd.jupyter.widget-view+json": {
       "version_major": 2,
       "version_minor": 0,
       "model_id": "cfb3fc5364f7491892a57caffd29bed2"
      }
     },
     "metadata": {},
     "output_type": "display_data"
    },
    {
     "name": "stdout",
     "output_type": "stream",
     "text": [
      "Epoch 74: Train Loss = 1.4893, Train Accuracy = 98.96%\n"
     ]
    },
    {
     "data": {
      "text/plain": [
       "Validation Epoch 74:   0%|          | 0/125 [00:00<?, ?it/s]"
      ],
      "application/vnd.jupyter.widget-view+json": {
       "version_major": 2,
       "version_minor": 0,
       "model_id": "df0f6acfe42647439661487161b5b9bf"
      }
     },
     "metadata": {},
     "output_type": "display_data"
    },
    {
     "name": "stdout",
     "output_type": "stream",
     "text": [
      "Epoch 74: Validation Loss = 1.0353, Validation Accuracy = 85.33%\n",
      "Checking existing file for epoch count...\n"
     ]
    },
    {
     "data": {
      "text/plain": [
       "Training Epoch 75:   0%|          | 0/3907 [00:00<?, ?it/s]"
      ],
      "application/vnd.jupyter.widget-view+json": {
       "version_major": 2,
       "version_minor": 0,
       "model_id": "60068b24e52847ff8cb8df4bb4e9357b"
      }
     },
     "metadata": {},
     "output_type": "display_data"
    },
    {
     "name": "stdout",
     "output_type": "stream",
     "text": [
      "Epoch 75: Train Loss = 1.4878, Train Accuracy = 99.00%\n"
     ]
    },
    {
     "data": {
      "text/plain": [
       "Validation Epoch 75:   0%|          | 0/125 [00:00<?, ?it/s]"
      ],
      "application/vnd.jupyter.widget-view+json": {
       "version_major": 2,
       "version_minor": 0,
       "model_id": "be581cdcdc974074a8bfe91e8161c925"
      }
     },
     "metadata": {},
     "output_type": "display_data"
    },
    {
     "name": "stdout",
     "output_type": "stream",
     "text": [
      "Epoch 75: Validation Loss = 1.0431, Validation Accuracy = 85.37%\n"
     ]
    },
    {
     "data": {
      "text/plain": [
       "Training Epoch 76:   0%|          | 0/3907 [00:00<?, ?it/s]"
      ],
      "application/vnd.jupyter.widget-view+json": {
       "version_major": 2,
       "version_minor": 0,
       "model_id": "94900b7372be42f9a1efe1318e9511d4"
      }
     },
     "metadata": {},
     "output_type": "display_data"
    },
    {
     "name": "stdout",
     "output_type": "stream",
     "text": [
      "Epoch 76: Train Loss = 1.4880, Train Accuracy = 98.99%\n"
     ]
    },
    {
     "data": {
      "text/plain": [
       "Validation Epoch 76:   0%|          | 0/125 [00:00<?, ?it/s]"
      ],
      "application/vnd.jupyter.widget-view+json": {
       "version_major": 2,
       "version_minor": 0,
       "model_id": "ff43326ef5c44fb79354d82aa40bc50b"
      }
     },
     "metadata": {},
     "output_type": "display_data"
    },
    {
     "name": "stdout",
     "output_type": "stream",
     "text": [
      "Epoch 76: Validation Loss = 1.0396, Validation Accuracy = 85.39%\n",
      "Checking existing file for epoch count...\n"
     ]
    },
    {
     "data": {
      "text/plain": [
       "Training Epoch 77:   0%|          | 0/3907 [00:00<?, ?it/s]"
      ],
      "application/vnd.jupyter.widget-view+json": {
       "version_major": 2,
       "version_minor": 0,
       "model_id": "0443ed3a80944784a8d4a290a269d333"
      }
     },
     "metadata": {},
     "output_type": "display_data"
    },
    {
     "name": "stdout",
     "output_type": "stream",
     "text": [
      "Epoch 77: Train Loss = 1.4874, Train Accuracy = 99.01%\n"
     ]
    },
    {
     "data": {
      "text/plain": [
       "Validation Epoch 77:   0%|          | 0/125 [00:00<?, ?it/s]"
      ],
      "application/vnd.jupyter.widget-view+json": {
       "version_major": 2,
       "version_minor": 0,
       "model_id": "13474cfc153640c78ddf33ad6c20ca55"
      }
     },
     "metadata": {},
     "output_type": "display_data"
    },
    {
     "name": "stdout",
     "output_type": "stream",
     "text": [
      "Epoch 77: Validation Loss = 1.0322, Validation Accuracy = 85.45%\n"
     ]
    },
    {
     "data": {
      "text/plain": [
       "Training Epoch 78:   0%|          | 0/3907 [00:00<?, ?it/s]"
      ],
      "application/vnd.jupyter.widget-view+json": {
       "version_major": 2,
       "version_minor": 0,
       "model_id": "15d67669500e48279d296060d31a05a7"
      }
     },
     "metadata": {},
     "output_type": "display_data"
    },
    {
     "name": "stdout",
     "output_type": "stream",
     "text": [
      "Epoch 78: Train Loss = 1.4863, Train Accuracy = 99.04%\n"
     ]
    },
    {
     "data": {
      "text/plain": [
       "Validation Epoch 78:   0%|          | 0/125 [00:00<?, ?it/s]"
      ],
      "application/vnd.jupyter.widget-view+json": {
       "version_major": 2,
       "version_minor": 0,
       "model_id": "477488ed4df74e708ccdc0ef6f3ee209"
      }
     },
     "metadata": {},
     "output_type": "display_data"
    },
    {
     "name": "stdout",
     "output_type": "stream",
     "text": [
      "Epoch 78: Validation Loss = 1.0486, Validation Accuracy = 85.36%\n",
      "Checking existing file for epoch count...\n"
     ]
    },
    {
     "data": {
      "text/plain": [
       "Training Epoch 79:   0%|          | 0/3907 [00:00<?, ?it/s]"
      ],
      "application/vnd.jupyter.widget-view+json": {
       "version_major": 2,
       "version_minor": 0,
       "model_id": "f694103c416b4e7182ee67952c7ce273"
      }
     },
     "metadata": {},
     "output_type": "display_data"
    },
    {
     "name": "stdout",
     "output_type": "stream",
     "text": [
      "Epoch 79: Train Loss = 1.4859, Train Accuracy = 99.04%\n"
     ]
    },
    {
     "data": {
      "text/plain": [
       "Validation Epoch 79:   0%|          | 0/125 [00:00<?, ?it/s]"
      ],
      "application/vnd.jupyter.widget-view+json": {
       "version_major": 2,
       "version_minor": 0,
       "model_id": "22be89fad7b34ba094906e1aa763dae8"
      }
     },
     "metadata": {},
     "output_type": "display_data"
    },
    {
     "name": "stdout",
     "output_type": "stream",
     "text": [
      "Epoch 79: Validation Loss = 1.0472, Validation Accuracy = 85.30%\n"
     ]
    },
    {
     "data": {
      "text/plain": [
       "Training Epoch 80:   0%|          | 0/3907 [00:00<?, ?it/s]"
      ],
      "application/vnd.jupyter.widget-view+json": {
       "version_major": 2,
       "version_minor": 0,
       "model_id": "6a1c4cc31ebb440e9218d1266235aef8"
      }
     },
     "metadata": {},
     "output_type": "display_data"
    },
    {
     "name": "stdout",
     "output_type": "stream",
     "text": [
      "Epoch 80: Train Loss = 1.4853, Train Accuracy = 99.06%\n"
     ]
    },
    {
     "data": {
      "text/plain": [
       "Validation Epoch 80:   0%|          | 0/125 [00:00<?, ?it/s]"
      ],
      "application/vnd.jupyter.widget-view+json": {
       "version_major": 2,
       "version_minor": 0,
       "model_id": "bf7829a52b704fc891dfc76bfc39d84a"
      }
     },
     "metadata": {},
     "output_type": "display_data"
    },
    {
     "name": "stdout",
     "output_type": "stream",
     "text": [
      "Epoch 80: Validation Loss = 1.0445, Validation Accuracy = 85.50%\n",
      "Checking existing file for epoch count...\n"
     ]
    },
    {
     "data": {
      "text/plain": [
       "Training Epoch 81:   0%|          | 0/3907 [00:00<?, ?it/s]"
      ],
      "application/vnd.jupyter.widget-view+json": {
       "version_major": 2,
       "version_minor": 0,
       "model_id": "30fd252595f04211b5bfab312ed5abc3"
      }
     },
     "metadata": {},
     "output_type": "display_data"
    },
    {
     "name": "stdout",
     "output_type": "stream",
     "text": [
      "Epoch 81: Train Loss = 1.4852, Train Accuracy = 99.05%\n"
     ]
    },
    {
     "data": {
      "text/plain": [
       "Validation Epoch 81:   0%|          | 0/125 [00:00<?, ?it/s]"
      ],
      "application/vnd.jupyter.widget-view+json": {
       "version_major": 2,
       "version_minor": 0,
       "model_id": "b45bfdfa89484c07a235314cceeb2117"
      }
     },
     "metadata": {},
     "output_type": "display_data"
    },
    {
     "name": "stdout",
     "output_type": "stream",
     "text": [
      "Epoch 81: Validation Loss = 1.0417, Validation Accuracy = 85.45%\n"
     ]
    },
    {
     "data": {
      "text/plain": [
       "Training Epoch 82:   0%|          | 0/3907 [00:00<?, ?it/s]"
      ],
      "application/vnd.jupyter.widget-view+json": {
       "version_major": 2,
       "version_minor": 0,
       "model_id": "a8be3b4c385e4ffb97a7e123f9237f16"
      }
     },
     "metadata": {},
     "output_type": "display_data"
    },
    {
     "name": "stdout",
     "output_type": "stream",
     "text": [
      "Epoch 82: Train Loss = 1.4842, Train Accuracy = 99.06%\n"
     ]
    },
    {
     "data": {
      "text/plain": [
       "Validation Epoch 82:   0%|          | 0/125 [00:00<?, ?it/s]"
      ],
      "application/vnd.jupyter.widget-view+json": {
       "version_major": 2,
       "version_minor": 0,
       "model_id": "f1b2d6ed2326428f9cc64085d0380a23"
      }
     },
     "metadata": {},
     "output_type": "display_data"
    },
    {
     "name": "stdout",
     "output_type": "stream",
     "text": [
      "Epoch 82: Validation Loss = 1.0561, Validation Accuracy = 85.41%\n",
      "Checking existing file for epoch count...\n"
     ]
    },
    {
     "data": {
      "text/plain": [
       "Training Epoch 83:   0%|          | 0/3907 [00:00<?, ?it/s]"
      ],
      "application/vnd.jupyter.widget-view+json": {
       "version_major": 2,
       "version_minor": 0,
       "model_id": "6c72334e6aab4a8c800ade80932dc6b2"
      }
     },
     "metadata": {},
     "output_type": "display_data"
    },
    {
     "name": "stdout",
     "output_type": "stream",
     "text": [
      "Epoch 83: Train Loss = 1.4844, Train Accuracy = 99.06%\n"
     ]
    },
    {
     "data": {
      "text/plain": [
       "Validation Epoch 83:   0%|          | 0/125 [00:00<?, ?it/s]"
      ],
      "application/vnd.jupyter.widget-view+json": {
       "version_major": 2,
       "version_minor": 0,
       "model_id": "d5d28b6af53f4c0098cda97046d067cc"
      }
     },
     "metadata": {},
     "output_type": "display_data"
    },
    {
     "name": "stdout",
     "output_type": "stream",
     "text": [
      "Epoch 83: Validation Loss = 1.0541, Validation Accuracy = 85.33%\n"
     ]
    },
    {
     "data": {
      "text/plain": [
       "Training Epoch 84:   0%|          | 0/3907 [00:00<?, ?it/s]"
      ],
      "application/vnd.jupyter.widget-view+json": {
       "version_major": 2,
       "version_minor": 0,
       "model_id": "a02672b005b14c4fadcf2ee865239c2d"
      }
     },
     "metadata": {},
     "output_type": "display_data"
    },
    {
     "name": "stdout",
     "output_type": "stream",
     "text": [
      "Epoch 84: Train Loss = 1.4833, Train Accuracy = 99.10%\n"
     ]
    },
    {
     "data": {
      "text/plain": [
       "Validation Epoch 84:   0%|          | 0/125 [00:00<?, ?it/s]"
      ],
      "application/vnd.jupyter.widget-view+json": {
       "version_major": 2,
       "version_minor": 0,
       "model_id": "23ae2afd9cf644f5bf2645c13fae7850"
      }
     },
     "metadata": {},
     "output_type": "display_data"
    },
    {
     "name": "stdout",
     "output_type": "stream",
     "text": [
      "Epoch 84: Validation Loss = 1.0492, Validation Accuracy = 85.40%\n",
      "Checking existing file for epoch count...\n"
     ]
    },
    {
     "data": {
      "text/plain": [
       "Training Epoch 85:   0%|          | 0/3907 [00:00<?, ?it/s]"
      ],
      "application/vnd.jupyter.widget-view+json": {
       "version_major": 2,
       "version_minor": 0,
       "model_id": "0b02843d4bdf4caaa744ce77cf79a4b6"
      }
     },
     "metadata": {},
     "output_type": "display_data"
    },
    {
     "name": "stdout",
     "output_type": "stream",
     "text": [
      "Epoch 85: Train Loss = 1.4829, Train Accuracy = 99.11%\n"
     ]
    },
    {
     "data": {
      "text/plain": [
       "Validation Epoch 85:   0%|          | 0/125 [00:00<?, ?it/s]"
      ],
      "application/vnd.jupyter.widget-view+json": {
       "version_major": 2,
       "version_minor": 0,
       "model_id": "e60ae83341b64a41bf5d0897069e57bf"
      }
     },
     "metadata": {},
     "output_type": "display_data"
    },
    {
     "name": "stdout",
     "output_type": "stream",
     "text": [
      "Epoch 85: Validation Loss = 1.0534, Validation Accuracy = 85.47%\n"
     ]
    },
    {
     "data": {
      "text/plain": [
       "Training Epoch 86:   0%|          | 0/3907 [00:00<?, ?it/s]"
      ],
      "application/vnd.jupyter.widget-view+json": {
       "version_major": 2,
       "version_minor": 0,
       "model_id": "b95230ac606d461b829b2fbac8177f78"
      }
     },
     "metadata": {},
     "output_type": "display_data"
    },
    {
     "name": "stdout",
     "output_type": "stream",
     "text": [
      "Epoch 86: Train Loss = 1.4827, Train Accuracy = 99.10%\n"
     ]
    },
    {
     "data": {
      "text/plain": [
       "Validation Epoch 86:   0%|          | 0/125 [00:00<?, ?it/s]"
      ],
      "application/vnd.jupyter.widget-view+json": {
       "version_major": 2,
       "version_minor": 0,
       "model_id": "e146d56d56a54de9b69f71493d8118d9"
      }
     },
     "metadata": {},
     "output_type": "display_data"
    },
    {
     "name": "stdout",
     "output_type": "stream",
     "text": [
      "Epoch 86: Validation Loss = 1.0468, Validation Accuracy = 85.49%\n",
      "Checking existing file for epoch count...\n"
     ]
    },
    {
     "data": {
      "text/plain": [
       "Training Epoch 87:   0%|          | 0/3907 [00:00<?, ?it/s]"
      ],
      "application/vnd.jupyter.widget-view+json": {
       "version_major": 2,
       "version_minor": 0,
       "model_id": "f5a3f6491a65435daf41e98c77a0a693"
      }
     },
     "metadata": {},
     "output_type": "display_data"
    },
    {
     "ename": "KeyboardInterrupt",
     "evalue": "",
     "output_type": "error",
     "traceback": [
      "\u001B[0;31m---------------------------------------------------------------------------\u001B[0m",
      "\u001B[0;31mKeyboardInterrupt\u001B[0m                         Traceback (most recent call last)",
      "Cell \u001B[0;32mIn[35], line 29\u001B[0m\n\u001B[1;32m     21\u001B[0m loss \u001B[38;5;241m=\u001B[39m F\u001B[38;5;241m.\u001B[39mcross_entropy(\n\u001B[1;32m     22\u001B[0m     logits\u001B[38;5;241m.\u001B[39mview(\u001B[38;5;241m-\u001B[39m\u001B[38;5;241m1\u001B[39m, logits\u001B[38;5;241m.\u001B[39msize(\u001B[38;5;241m-\u001B[39m\u001B[38;5;241m1\u001B[39m)),\n\u001B[1;32m     23\u001B[0m     labels\u001B[38;5;241m.\u001B[39mview(\u001B[38;5;241m-\u001B[39m\u001B[38;5;241m1\u001B[39m),\n\u001B[0;32m   (...)\u001B[0m\n\u001B[1;32m     26\u001B[0m     label_smoothing \u001B[38;5;241m=\u001B[39m \u001B[38;5;241m0.1\u001B[39m\n\u001B[1;32m     27\u001B[0m )\n\u001B[1;32m     28\u001B[0m optimizer\u001B[38;5;241m.\u001B[39mzero_grad()\n\u001B[0;32m---> 29\u001B[0m \u001B[43mloss\u001B[49m\u001B[38;5;241;43m.\u001B[39;49m\u001B[43mbackward\u001B[49m\u001B[43m(\u001B[49m\u001B[43m)\u001B[49m\n\u001B[1;32m     30\u001B[0m optimizer\u001B[38;5;241m.\u001B[39mstep()\n\u001B[1;32m     31\u001B[0m \u001B[38;5;66;03m# scheduler.step()\u001B[39;00m\n",
      "File \u001B[0;32m~/anaconda3/envs/test/lib/python3.10/site-packages/torch/_tensor.py:626\u001B[0m, in \u001B[0;36mTensor.backward\u001B[0;34m(self, gradient, retain_graph, create_graph, inputs)\u001B[0m\n\u001B[1;32m    616\u001B[0m \u001B[38;5;28;01mif\u001B[39;00m has_torch_function_unary(\u001B[38;5;28mself\u001B[39m):\n\u001B[1;32m    617\u001B[0m     \u001B[38;5;28;01mreturn\u001B[39;00m handle_torch_function(\n\u001B[1;32m    618\u001B[0m         Tensor\u001B[38;5;241m.\u001B[39mbackward,\n\u001B[1;32m    619\u001B[0m         (\u001B[38;5;28mself\u001B[39m,),\n\u001B[0;32m   (...)\u001B[0m\n\u001B[1;32m    624\u001B[0m         inputs\u001B[38;5;241m=\u001B[39minputs,\n\u001B[1;32m    625\u001B[0m     )\n\u001B[0;32m--> 626\u001B[0m \u001B[43mtorch\u001B[49m\u001B[38;5;241;43m.\u001B[39;49m\u001B[43mautograd\u001B[49m\u001B[38;5;241;43m.\u001B[39;49m\u001B[43mbackward\u001B[49m\u001B[43m(\u001B[49m\n\u001B[1;32m    627\u001B[0m \u001B[43m    \u001B[49m\u001B[38;5;28;43mself\u001B[39;49m\u001B[43m,\u001B[49m\u001B[43m \u001B[49m\u001B[43mgradient\u001B[49m\u001B[43m,\u001B[49m\u001B[43m \u001B[49m\u001B[43mretain_graph\u001B[49m\u001B[43m,\u001B[49m\u001B[43m \u001B[49m\u001B[43mcreate_graph\u001B[49m\u001B[43m,\u001B[49m\u001B[43m \u001B[49m\u001B[43minputs\u001B[49m\u001B[38;5;241;43m=\u001B[39;49m\u001B[43minputs\u001B[49m\n\u001B[1;32m    628\u001B[0m \u001B[43m\u001B[49m\u001B[43m)\u001B[49m\n",
      "File \u001B[0;32m~/anaconda3/envs/test/lib/python3.10/site-packages/torch/autograd/__init__.py:347\u001B[0m, in \u001B[0;36mbackward\u001B[0;34m(tensors, grad_tensors, retain_graph, create_graph, grad_variables, inputs)\u001B[0m\n\u001B[1;32m    342\u001B[0m     retain_graph \u001B[38;5;241m=\u001B[39m create_graph\n\u001B[1;32m    344\u001B[0m \u001B[38;5;66;03m# The reason we repeat the same comment below is that\u001B[39;00m\n\u001B[1;32m    345\u001B[0m \u001B[38;5;66;03m# some Python versions print out the first line of a multi-line function\u001B[39;00m\n\u001B[1;32m    346\u001B[0m \u001B[38;5;66;03m# calls in the traceback and some print out the last line\u001B[39;00m\n\u001B[0;32m--> 347\u001B[0m \u001B[43m_engine_run_backward\u001B[49m\u001B[43m(\u001B[49m\n\u001B[1;32m    348\u001B[0m \u001B[43m    \u001B[49m\u001B[43mtensors\u001B[49m\u001B[43m,\u001B[49m\n\u001B[1;32m    349\u001B[0m \u001B[43m    \u001B[49m\u001B[43mgrad_tensors_\u001B[49m\u001B[43m,\u001B[49m\n\u001B[1;32m    350\u001B[0m \u001B[43m    \u001B[49m\u001B[43mretain_graph\u001B[49m\u001B[43m,\u001B[49m\n\u001B[1;32m    351\u001B[0m \u001B[43m    \u001B[49m\u001B[43mcreate_graph\u001B[49m\u001B[43m,\u001B[49m\n\u001B[1;32m    352\u001B[0m \u001B[43m    \u001B[49m\u001B[43minputs\u001B[49m\u001B[43m,\u001B[49m\n\u001B[1;32m    353\u001B[0m \u001B[43m    \u001B[49m\u001B[43mallow_unreachable\u001B[49m\u001B[38;5;241;43m=\u001B[39;49m\u001B[38;5;28;43;01mTrue\u001B[39;49;00m\u001B[43m,\u001B[49m\n\u001B[1;32m    354\u001B[0m \u001B[43m    \u001B[49m\u001B[43maccumulate_grad\u001B[49m\u001B[38;5;241;43m=\u001B[39;49m\u001B[38;5;28;43;01mTrue\u001B[39;49;00m\u001B[43m,\u001B[49m\n\u001B[1;32m    355\u001B[0m \u001B[43m\u001B[49m\u001B[43m)\u001B[49m\n",
      "File \u001B[0;32m~/anaconda3/envs/test/lib/python3.10/site-packages/torch/autograd/graph.py:823\u001B[0m, in \u001B[0;36m_engine_run_backward\u001B[0;34m(t_outputs, *args, **kwargs)\u001B[0m\n\u001B[1;32m    821\u001B[0m     unregister_hooks \u001B[38;5;241m=\u001B[39m _register_logging_hooks_on_whole_graph(t_outputs)\n\u001B[1;32m    822\u001B[0m \u001B[38;5;28;01mtry\u001B[39;00m:\n\u001B[0;32m--> 823\u001B[0m     \u001B[38;5;28;01mreturn\u001B[39;00m \u001B[43mVariable\u001B[49m\u001B[38;5;241;43m.\u001B[39;49m\u001B[43m_execution_engine\u001B[49m\u001B[38;5;241;43m.\u001B[39;49m\u001B[43mrun_backward\u001B[49m\u001B[43m(\u001B[49m\u001B[43m  \u001B[49m\u001B[38;5;66;43;03m# Calls into the C++ engine to run the backward pass\u001B[39;49;00m\n\u001B[1;32m    824\u001B[0m \u001B[43m        \u001B[49m\u001B[43mt_outputs\u001B[49m\u001B[43m,\u001B[49m\u001B[43m \u001B[49m\u001B[38;5;241;43m*\u001B[39;49m\u001B[43margs\u001B[49m\u001B[43m,\u001B[49m\u001B[43m \u001B[49m\u001B[38;5;241;43m*\u001B[39;49m\u001B[38;5;241;43m*\u001B[39;49m\u001B[43mkwargs\u001B[49m\n\u001B[1;32m    825\u001B[0m \u001B[43m    \u001B[49m\u001B[43m)\u001B[49m  \u001B[38;5;66;03m# Calls into the C++ engine to run the backward pass\u001B[39;00m\n\u001B[1;32m    826\u001B[0m \u001B[38;5;28;01mfinally\u001B[39;00m:\n\u001B[1;32m    827\u001B[0m     \u001B[38;5;28;01mif\u001B[39;00m attach_logging_hooks:\n",
      "\u001B[0;31mKeyboardInterrupt\u001B[0m: "
     ]
    }
   ],
   "execution_count": 35
  },
  {
   "metadata": {
    "execution": {
     "iopub.execute_input": "2025-05-16T10:30:19.560722Z",
     "iopub.status.busy": "2025-05-16T10:30:19.560053Z",
     "iopub.status.idle": "2025-05-16T10:30:26.586476Z",
     "shell.execute_reply": "2025-05-16T10:30:26.585885Z",
     "shell.execute_reply.started": "2025-05-16T10:30:19.560695Z"
    },
    "ExecuteTime": {
     "end_time": "2025-09-09T15:57:39.477557Z",
     "start_time": "2025-09-09T15:57:35.787109Z"
    }
   },
   "cell_type": "code",
   "source": [
    "from tqdm import tqdm\n",
    "import torch\n",
    "import torch.nn.functional as F\n",
    "\n",
    "padding_token_id = tokenizer.pad_token_id # Define the padding token ID\n",
    "model.to(device)\n",
    "model.eval()\n",
    "total_tokens = 0\n",
    "correct_tokens = 0\n",
    "\n",
    "for batch in tqdm(test_loader, desc=\"Evaluating Token-Level Accuracy on Test Set\"):\n",
    "    batch = {k: v.to(device) for k, v in batch.items()}\n",
    "\n",
    "    with torch.no_grad():\n",
    "        outputs = model(**batch)\n",
    "        logits = outputs.logits\n",
    "        labels = batch[\"labels\"]\n",
    "\n",
    "        # Get the predicted token IDs\n",
    "        predicted = torch.argmax(logits, dim=-1)\n",
    "\n",
    "        # Create mask to ignore padding tokens (padding_token_id) and special tokens like -100\n",
    "        mask = (labels != -100) & (labels != padding_token_id)\n",
    "\n",
    "        # Count correct predictions\n",
    "        correct_tokens += ((predicted == labels) & mask).sum().item()\n",
    "        total_tokens += mask.sum().item()\n",
    "\n",
    "token_accuracy = 100 * correct_tokens / total_tokens\n",
    "print(f\"Token-Level Accuracy on Test Set: {token_accuracy:.2f}%\")\n"
   ],
   "id": "d5b42dfb079b9a84",
   "outputs": [
    {
     "name": "stderr",
     "output_type": "stream",
     "text": [
      "Evaluating Token-Level Accuracy on Test Set: 100%|██████████| 125/125 [00:03<00:00, 33.98it/s]"
     ]
    },
    {
     "name": "stdout",
     "output_type": "stream",
     "text": [
      "Token-Level Accuracy on Test Set: 85.77%\n"
     ]
    },
    {
     "name": "stderr",
     "output_type": "stream",
     "text": [
      "\n"
     ]
    }
   ],
   "execution_count": 36
  },
  {
   "metadata": {},
   "cell_type": "markdown",
   "source": "## Convert Generated English sentences to Akkadian",
   "id": "edadb926e6737706"
  },
  {
   "metadata": {
    "execution": {
     "iopub.execute_input": "2025-05-17T01:42:30.597709Z",
     "iopub.status.busy": "2025-05-17T01:42:30.596968Z",
     "iopub.status.idle": "2025-05-17T01:42:49.227981Z",
     "shell.execute_reply": "2025-05-17T01:42:49.227360Z",
     "shell.execute_reply.started": "2025-05-17T01:42:30.597685Z"
    },
    "ExecuteTime": {
     "end_time": "2025-07-21T21:37:02.249518Z",
     "start_time": "2025-07-21T21:37:01.553857Z"
    }
   },
   "cell_type": "code",
   "outputs": [],
   "execution_count": 33,
   "source": [
    "model_checkpoint = \"models/EN_TO_AK\"\n",
    "tokenizer = AutoTokenizer.from_pretrained(model_checkpoint)\n",
    "model = AutoModelForSeq2SeqLM.from_pretrained(model_checkpoint)\n"
   ],
   "id": "f3dbd5a327a66bbf"
  },
  {
   "metadata": {
    "execution": {
     "iopub.execute_input": "2025-05-17T01:40:21.225484Z",
     "iopub.status.busy": "2025-05-17T01:40:21.225129Z",
     "iopub.status.idle": "2025-05-17T01:40:21.277625Z",
     "shell.execute_reply": "2025-05-17T01:40:21.276688Z",
     "shell.execute_reply.started": "2025-05-17T01:40:21.225459Z"
    },
    "ExecuteTime": {
     "end_time": "2025-09-09T15:57:50.830218Z",
     "start_time": "2025-09-09T15:57:50.785648Z"
    }
   },
   "cell_type": "code",
   "source": [
    "with open(\"generated.txt\", \"r\") as f:\n",
    "    en_sent = f.read().strip().split(\"\\n\")"
   ],
   "id": "32f7b18206dbc51e",
   "outputs": [],
   "execution_count": 39
  },
  {
   "metadata": {
    "execution": {
     "iopub.execute_input": "2025-05-17T01:40:23.099227Z",
     "iopub.status.busy": "2025-05-17T01:40:23.098891Z",
     "iopub.status.idle": "2025-05-17T01:40:23.105269Z",
     "shell.execute_reply": "2025-05-17T01:40:23.104388Z",
     "shell.execute_reply.started": "2025-05-17T01:40:23.099196Z"
    },
    "ExecuteTime": {
     "end_time": "2025-07-21T21:37:02.404002Z",
     "start_time": "2025-07-21T21:37:02.399543Z"
    }
   },
   "cell_type": "code",
   "outputs": [
    {
     "data": {
      "text/plain": [
       "18000"
      ]
     },
     "execution_count": 35,
     "metadata": {},
     "output_type": "execute_result"
    }
   ],
   "execution_count": 35,
   "source": "len(en_sent)",
   "id": "5101a0ced134f17c"
  },
  {
   "metadata": {
    "execution": {
     "iopub.execute_input": "2025-05-17T01:36:01.539705Z",
     "iopub.status.busy": "2025-05-17T01:36:01.539419Z",
     "iopub.status.idle": "2025-05-17T01:36:01.590556Z",
     "shell.execute_reply": "2025-05-17T01:36:01.589899Z",
     "shell.execute_reply.started": "2025-05-17T01:36:01.539686Z"
    },
    "ExecuteTime": {
     "end_time": "2025-07-21T21:37:02.528360Z",
     "start_time": "2025-07-21T21:37:02.504143Z"
    }
   },
   "cell_type": "code",
   "outputs": [],
   "execution_count": 36,
   "source": "lens = [len(x.split()) for x in en_sent]",
   "id": "b1aac3a7a3b7ae12"
  },
  {
   "metadata": {
    "execution": {
     "iopub.execute_input": "2025-05-17T01:36:03.302045Z",
     "iopub.status.busy": "2025-05-17T01:36:03.301713Z",
     "iopub.status.idle": "2025-05-17T01:36:03.616690Z",
     "shell.execute_reply": "2025-05-17T01:36:03.615918Z",
     "shell.execute_reply.started": "2025-05-17T01:36:03.302022Z"
    },
    "ExecuteTime": {
     "end_time": "2025-07-21T21:37:02.791335Z",
     "start_time": "2025-07-21T21:37:02.611135Z"
    }
   },
   "cell_type": "code",
   "outputs": [
    {
     "data": {
      "text/plain": [
       "<Figure size 640x480 with 1 Axes>"
      ],
      "image/png": "[encoded data removed]"
     },
     "metadata": {},
     "output_type": "display_data"
    }
   ],
   "execution_count": 37,
   "source": [
    "import matplotlib.pyplot as plt\n",
    "plt.hist(lens)\n",
    "plt.show()"
   ],
   "id": "981fcc93b0af120a"
  },
  {
   "metadata": {
    "execution": {
     "iopub.execute_input": "2025-05-17T01:36:08.980770Z",
     "iopub.status.busy": "2025-05-17T01:36:08.980089Z",
     "iopub.status.idle": "2025-05-17T01:36:08.985385Z",
     "shell.execute_reply": "2025-05-17T01:36:08.984495Z",
     "shell.execute_reply.started": "2025-05-17T01:36:08.980737Z"
    },
    "ExecuteTime": {
     "end_time": "2025-09-09T15:57:53.485284Z",
     "start_time": "2025-09-09T15:57:53.482913Z"
    }
   },
   "cell_type": "code",
   "source": [
    "def tokenize_inputs(examples):\n",
    "    model_inputs = tokenizer(examples[\"en\"], truncation=True, padding=\"max_length\", max_length=200)\n",
    "    return model_inputs"
   ],
   "id": "3009c82ab81c6a5a",
   "outputs": [],
   "execution_count": 40
  },
  {
   "metadata": {
    "execution": {
     "iopub.execute_input": "2025-05-17T01:40:31.912028Z",
     "iopub.status.busy": "2025-05-17T01:40:31.911674Z",
     "iopub.status.idle": "2025-05-17T01:40:31.980427Z",
     "shell.execute_reply": "2025-05-17T01:40:31.979747Z",
     "shell.execute_reply.started": "2025-05-17T01:40:31.912006Z"
    },
    "ExecuteTime": {
     "end_time": "2025-09-09T15:57:53.734035Z",
     "start_time": "2025-09-09T15:57:53.674440Z"
    }
   },
   "cell_type": "code",
   "source": "input_dataset = Dataset.from_dict({'en':en_sent})",
   "id": "4e1344a7c60d50ce",
   "outputs": [],
   "execution_count": 41
  },
  {
   "metadata": {
    "execution": {
     "iopub.execute_input": "2025-05-17T01:40:33.118758Z",
     "iopub.status.busy": "2025-05-17T01:40:33.118443Z",
     "iopub.status.idle": "2025-05-17T01:40:41.697013Z",
     "shell.execute_reply": "2025-05-17T01:40:41.696435Z",
     "shell.execute_reply.started": "2025-05-17T01:40:33.118738Z"
    },
    "ExecuteTime": {
     "end_time": "2025-09-09T15:57:57.413320Z",
     "start_time": "2025-09-09T15:57:53.830681Z"
    }
   },
   "cell_type": "code",
   "source": "tokenized_input = input_dataset.map(tokenize_inputs, batched= True)",
   "id": "523d9facde9a2dfa",
   "outputs": [
    {
     "data": {
      "text/plain": [
       "Map:   0%|          | 0/18000 [00:00<?, ? examples/s]"
      ],
      "application/vnd.jupyter.widget-view+json": {
       "version_major": 2,
       "version_minor": 0,
       "model_id": "417dcd55765c45b692e87a9aa534a289"
      }
     },
     "metadata": {},
     "output_type": "display_data"
    }
   ],
   "execution_count": 42
  },
  {
   "metadata": {
    "execution": {
     "iopub.execute_input": "2025-05-17T01:40:41.698264Z",
     "iopub.status.busy": "2025-05-17T01:40:41.698006Z",
     "iopub.status.idle": "2025-05-17T01:40:44.887620Z",
     "shell.execute_reply": "2025-05-17T01:40:44.886772Z",
     "shell.execute_reply.started": "2025-05-17T01:40:41.698227Z"
    },
    "ExecuteTime": {
     "end_time": "2025-09-09T15:57:59.432941Z",
     "start_time": "2025-09-09T15:57:57.682265Z"
    }
   },
   "cell_type": "code",
   "source": [
    "class CustomDataset(torch.utils.data.Dataset):\n",
    "    def __init__(self, tokenized_data):\n",
    "        self.input_ids = tokenized_data['input_ids']\n",
    "        self.attention_mask = tokenized_data['attention_mask']\n",
    "\n",
    "    def __len__(self):\n",
    "        return len(self.input_ids)\n",
    "\n",
    "    def __getitem__(self, idx):\n",
    "        return {\n",
    "            'input_ids': torch.tensor(self.input_ids[idx], dtype=torch.long),\n",
    "            'attention_mask': torch.tensor(self.attention_mask[idx], dtype=torch.long),\n",
    "        }\n",
    "\n",
    "\n",
    "train_input = DataLoader(CustomDataset(tokenized_input), batch_size=16, shuffle=True)"
   ],
   "id": "3fee381809363ab0",
   "outputs": [],
   "execution_count": 43
  },
  {
   "metadata": {},
   "cell_type": "markdown",
   "source": "### Sample translations",
   "id": "de45de82f5defc78"
  },
  {
   "metadata": {
    "collapsed": true,
    "execution": {
     "iopub.execute_input": "2025-05-13T22:39:55.254328Z",
     "iopub.status.busy": "2025-05-13T22:39:55.253966Z",
     "iopub.status.idle": "2025-05-13T22:40:15.123804Z",
     "shell.execute_reply": "2025-05-13T22:40:15.122663Z",
     "shell.execute_reply.started": "2025-05-13T22:39:55.254301Z"
    },
    "jupyter": {
     "outputs_hidden": true
    }
   },
   "cell_type": "code",
   "outputs": [],
   "execution_count": null,
   "source": [
    "from tqdm import tqdm\n",
    "\n",
    "model.eval()\n",
    "model.to(device)\n",
    "\n",
    "print(\"\\nSample Translations:\\n\" + \"=\" * 60)\n",
    "\n",
    "# Limit the number of printed samples\n",
    "max_display = 5\n",
    "displayed = 0\n",
    "\n",
    "for batch in tqdm(train_input, desc=\"Translating Test Set\"):\n",
    "    batch = {k: v.to(device) for k, v in batch.items()}\n",
    "\n",
    "    with torch.no_grad():\n",
    "        generated_tokens = model.generate(\n",
    "            input_ids=batch[\"input_ids\"],\n",
    "            attention_mask=batch[\"attention_mask\"],\n",
    "            max_length=200,\n",
    "            eos_token_id=tokenizer.eos_token_id,\n",
    "            pad_token_id=tokenizer.pad_token_id,\n",
    "        )\n",
    "    # Decode predictions and ground truth labels\n",
    "    decoded_preds = tokenizer.batch_decode(generated_tokens, skip_special_tokens=True)\n",
    "    for pred in decoded_preds:\n",
    "        if displayed >= max_display:\n",
    "            break\n",
    "        print(f\"🔹 Prediction: {pred}\")\n",
    "        print(\"-\" * 60)\n",
    "        displayed += 1\n",
    "\n",
    "    if displayed >= max_display:\n",
    "        break\n"
   ],
   "id": "f241b32cae982a50"
  },
  {
   "metadata": {},
   "cell_type": "markdown",
   "source": "### Generate Akkadian translations",
   "id": "ad6baf2260332746"
  },
  {
   "metadata": {
    "execution": {
     "iopub.execute_input": "2025-05-17T01:43:01.937689Z",
     "iopub.status.busy": "2025-05-17T01:43:01.936933Z",
     "iopub.status.idle": "2025-05-17T02:07:20.951057Z",
     "shell.execute_reply": "2025-05-17T02:07:20.950278Z",
     "shell.execute_reply.started": "2025-05-17T01:43:01.937668Z"
    },
    "ExecuteTime": {
     "end_time": "2025-09-09T16:10:32.796589Z",
     "start_time": "2025-09-09T15:58:01.777910Z"
    }
   },
   "cell_type": "code",
   "source": [
    "device = (\"cuda\" if torch.cuda.is_available() else \"cpu\")\n",
    "model.to(device)\n",
    "total_pred=  []\n",
    "for batch in tqdm(train_input, desc=\"Translating Test Set\"):\n",
    "    batch = {k: v.to(device) for k, v in batch.items()}\n",
    "    with torch.no_grad():\n",
    "        generated_tokens = model.generate(\n",
    "            input_ids=batch[\"input_ids\"],\n",
    "            attention_mask=batch[\"attention_mask\"],\n",
    "            max_length=200,\n",
    "            eos_token_id=tokenizer.eos_token_id,\n",
    "            pad_token_id=tokenizer.pad_token_id,\n",
    "        )\n",
    "    # Decode predictions and ground truth labels\n",
    "    decoded_preds = tokenizer.batch_decode(generated_tokens, skip_special_tokens=True)\n",
    "    total_pred.append(decoded_preds)\n",
    "flattened = [item for sublist in total_pred for item in sublist]"
   ],
   "id": "7942a90bd245229f",
   "outputs": [
    {
     "name": "stderr",
     "output_type": "stream",
     "text": [
      "Translating Test Set: 100%|██████████| 1125/1125 [12:31<00:00,  1.50it/s]\n"
     ]
    }
   ],
   "execution_count": 44
  },
  {
   "metadata": {},
   "cell_type": "markdown",
   "source": "### Combine old EN-AK pairs with generated ones",
   "id": "3b68daaabbe27ee1"
  },
  {
   "metadata": {
    "execution": {
     "iopub.execute_input": "2025-05-17T02:07:20.952875Z",
     "iopub.status.busy": "2025-05-17T02:07:20.952611Z",
     "iopub.status.idle": "2025-05-17T02:07:21.052399Z",
     "shell.execute_reply": "2025-05-17T02:07:21.051785Z",
     "shell.execute_reply.started": "2025-05-17T02:07:20.952857Z"
    },
    "ExecuteTime": {
     "end_time": "2025-09-09T16:10:33.001097Z",
     "start_time": "2025-09-09T16:10:32.816379Z"
    }
   },
   "cell_type": "code",
   "source": [
    "def load_data(en_file, tr_file):\n",
    "    en_file = \"data_directories/final_data/\" + en_file\n",
    "    tr_file = \"data_directories/final_data/\" + tr_file\n",
    "    # en_file = \"archive/\" + en_file\n",
    "    # tr_file = \"archive/\" + tr_file\n",
    "    with open(en_file, 'r', encoding='utf-8') as file:\n",
    "        en_texts = file.read().strip().split('\\n')\n",
    "    with open(tr_file, 'r', encoding='utf-8') as file:\n",
    "        tr_texts = file.read().strip().split('\\n')\n",
    "    return pd.DataFrame({'en': en_texts, 'tr': tr_texts})\n",
    "\n",
    "\n",
    "train_data = load_data(\"english_train.txt\", \"akkadian_train.txt\")"
   ],
   "id": "9e23192e452b9c03",
   "outputs": [],
   "execution_count": 45
  },
  {
   "metadata": {
    "ExecuteTime": {
     "end_time": "2025-09-09T16:10:33.027055Z",
     "start_time": "2025-09-09T16:10:33.005248Z"
    }
   },
   "cell_type": "code",
   "source": [
    "with open(\"generated.txt\", 'r') as f:\n",
    "    en_sent = f.read().strip().split('\\n')"
   ],
   "id": "6158302c59bcc45a",
   "outputs": [],
   "execution_count": 46
  },
  {
   "metadata": {
    "execution": {
     "iopub.execute_input": "2025-05-17T02:07:21.053405Z",
     "iopub.status.busy": "2025-05-17T02:07:21.053179Z",
     "iopub.status.idle": "2025-05-17T02:07:21.062289Z",
     "shell.execute_reply": "2025-05-17T02:07:21.061617Z",
     "shell.execute_reply.started": "2025-05-17T02:07:21.053388Z"
    },
    "ExecuteTime": {
     "end_time": "2025-09-09T16:10:33.058483Z",
     "start_time": "2025-09-09T16:10:33.052319Z"
    }
   },
   "cell_type": "code",
   "source": "gen_dataset = pd.DataFrame({\"en\" : en_sent, \"tr\": flattened})",
   "id": "3c3d21c03aa6c873",
   "outputs": [],
   "execution_count": 47
  },
  {
   "metadata": {
    "execution": {
     "iopub.execute_input": "2025-05-17T02:07:21.063697Z",
     "iopub.status.busy": "2025-05-17T02:07:21.063461Z",
     "iopub.status.idle": "2025-05-17T02:07:21.079663Z",
     "shell.execute_reply": "2025-05-17T02:07:21.079033Z",
     "shell.execute_reply.started": "2025-05-17T02:07:21.063681Z"
    },
    "ExecuteTime": {
     "end_time": "2025-09-09T16:10:33.106233Z",
     "start_time": "2025-09-09T16:10:33.101367Z"
    }
   },
   "cell_type": "code",
   "source": "df = pd.concat([train_data, gen_dataset])",
   "id": "6440274f97bd7069",
   "outputs": [],
   "execution_count": 48
  },
  {
   "metadata": {
    "execution": {
     "iopub.execute_input": "2025-05-17T02:07:21.080606Z",
     "iopub.status.busy": "2025-05-17T02:07:21.080373Z",
     "iopub.status.idle": "2025-05-17T02:07:21.491791Z",
     "shell.execute_reply": "2025-05-17T02:07:21.491199Z",
     "shell.execute_reply.started": "2025-05-17T02:07:21.080591Z"
    },
    "ExecuteTime": {
     "end_time": "2025-09-09T16:10:33.485437Z",
     "start_time": "2025-09-09T16:10:33.148547Z"
    }
   },
   "cell_type": "code",
   "source": [
    "import os\n",
    "os.makedirs(\"data_directories/final_data/full_data\", exist_ok=True)\n",
    "\n",
    "df['en'].to_csv(\"data_directories/final_data/new_combined_data_english.txt\", index=False, header=False)\n",
    "\n",
    "# Write Akkadian (or target language) sentences\n",
    "df['tr'].to_csv(\"data_directories/final_data/new_combined_data_akkadian.txt\", index=False, header=False)\n"
   ],
   "id": "497475b44522e13d",
   "outputs": [],
   "execution_count": 49
  }
 ],
 "metadata": {
  "kernelspec": {
   "display_name": "Python 3",
   "language": "python",
   "name": "python3"
  },
  "language_info": {
   "codemirror_mode": {
    "name": "ipython",
    "version": 2
   },
   "file_extension": ".py",
   "mimetype": "text/x-python",
   "name": "python",
   "nbconvert_exporter": "python",
   "pygments_lexer": "ipython2",
   "version": "2.7.6"
  }
 },
 "nbformat": 4,
 "nbformat_minor": 5
}
